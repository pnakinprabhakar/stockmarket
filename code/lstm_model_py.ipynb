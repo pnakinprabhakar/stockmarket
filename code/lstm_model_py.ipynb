{
 "cells": [
  {
   "cell_type": "code",
   "execution_count": 1,
   "metadata": {
    "colab": {
     "base_uri": "https://localhost:8080/"
    },
    "id": "ByVJN-jCPU-E",
    "outputId": "262719e5-19d7-431a-ea9a-428cd092e307"
   },
   "outputs": [
    {
     "name": "stdout",
     "output_type": "stream",
     "text": [
      "Collecting pandas-datareader\n",
      "  Downloading pandas_datareader-0.10.0-py3-none-any.whl (109 kB)\n",
      "Requirement already satisfied: pandas>=0.23 in c:\\users\\admin\\anaconda3\\envs\\software\\lib\\site-packages (from pandas-datareader) (1.3.0)\n",
      "Collecting lxml\n",
      "  Downloading lxml-4.9.0-cp38-cp38-win_amd64.whl (3.6 MB)\n",
      "Requirement already satisfied: requests>=2.19.0 in c:\\users\\admin\\anaconda3\\envs\\software\\lib\\site-packages (from pandas-datareader) (2.25.1)\n",
      "Requirement already satisfied: numpy>=1.17.3 in c:\\users\\admin\\anaconda3\\envs\\software\\lib\\site-packages (from pandas>=0.23->pandas-datareader) (1.20.3)\n",
      "Requirement already satisfied: pytz>=2017.3 in c:\\users\\admin\\anaconda3\\envs\\software\\lib\\site-packages (from pandas>=0.23->pandas-datareader) (2021.1)\n",
      "Requirement already satisfied: python-dateutil>=2.7.3 in c:\\users\\admin\\anaconda3\\envs\\software\\lib\\site-packages (from pandas>=0.23->pandas-datareader) (2.8.2)\n",
      "Requirement already satisfied: six>=1.5 in c:\\users\\admin\\anaconda3\\envs\\software\\lib\\site-packages (from python-dateutil>=2.7.3->pandas>=0.23->pandas-datareader) (1.16.0)\n",
      "Requirement already satisfied: certifi>=2017.4.17 in c:\\users\\admin\\anaconda3\\envs\\software\\lib\\site-packages (from requests>=2.19.0->pandas-datareader) (2021.5.30)\n",
      "Requirement already satisfied: idna<3,>=2.5 in c:\\users\\admin\\anaconda3\\envs\\software\\lib\\site-packages (from requests>=2.19.0->pandas-datareader) (2.10)\n",
      "Requirement already satisfied: urllib3<1.27,>=1.21.1 in c:\\users\\admin\\anaconda3\\envs\\software\\lib\\site-packages (from requests>=2.19.0->pandas-datareader) (1.26.6)\n",
      "Requirement already satisfied: chardet<5,>=3.0.2 in c:\\users\\admin\\anaconda3\\envs\\software\\lib\\site-packages (from requests>=2.19.0->pandas-datareader) (3.0.4)\n",
      "Installing collected packages: lxml, pandas-datareader\n",
      "Successfully installed lxml-4.9.0 pandas-datareader-0.10.0\n",
      "Requirement already satisfied: pandas in c:\\users\\admin\\anaconda3\\envs\\software\\lib\\site-packages (1.3.0)\n",
      "Collecting pandas\n",
      "  Downloading pandas-1.4.2-cp38-cp38-win_amd64.whl (10.6 MB)\n",
      "Requirement already satisfied: numpy>=1.18.5 in c:\\users\\admin\\anaconda3\\envs\\software\\lib\\site-packages (from pandas) (1.20.3)\n",
      "Requirement already satisfied: pytz>=2020.1 in c:\\users\\admin\\anaconda3\\envs\\software\\lib\\site-packages (from pandas) (2021.1)\n",
      "Requirement already satisfied: python-dateutil>=2.8.1 in c:\\users\\admin\\anaconda3\\envs\\software\\lib\\site-packages (from pandas) (2.8.2)\n",
      "Requirement already satisfied: six>=1.5 in c:\\users\\admin\\anaconda3\\envs\\software\\lib\\site-packages (from python-dateutil>=2.8.1->pandas) (1.16.0)\n",
      "Installing collected packages: pandas\n",
      "  Attempting uninstall: pandas\n",
      "    Found existing installation: pandas 1.3.0\n",
      "    Uninstalling pandas-1.3.0:\n",
      "      Successfully uninstalled pandas-1.3.0\n",
      "Successfully installed pandas-1.4.2\n"
     ]
    }
   ],
   "source": [
    "!pip install --upgrade pandas-datareader\n",
    "\n",
    "!pip install --upgrade pandas"
   ]
  },
  {
   "cell_type": "code",
   "execution_count": 5,
   "metadata": {
    "id": "k0zMCGZH-_kz"
   },
   "outputs": [],
   "source": [
    "import numpy as np\n",
    "import pandas as pd\n",
    "import matplotlib.pyplot as plt\n",
    "import pandas_datareader as data\n",
    "import sklearn\n",
    "from sklearn.model_selection import train_test_split"
   ]
  },
  {
   "cell_type": "code",
   "execution_count": 6,
   "metadata": {
    "id": "-AixtfJnMHWV"
   },
   "outputs": [],
   "source": [
    "start = '2010-01-01'\n",
    "end = '2022-12-31'\n",
    "\n",
    "df = data.DataReader('AAPL','yahoo',start,end)"
   ]
  },
  {
   "cell_type": "code",
   "execution_count": 7,
   "metadata": {
    "colab": {
     "base_uri": "https://localhost:8080/",
     "height": 237
    },
    "id": "QLTyeQYXMntt",
    "outputId": "4278235c-bf96-420c-d67e-f21836e6273c"
   },
   "outputs": [
    {
     "data": {
      "text/html": [
       "<div>\n",
       "<style scoped>\n",
       "    .dataframe tbody tr th:only-of-type {\n",
       "        vertical-align: middle;\n",
       "    }\n",
       "\n",
       "    .dataframe tbody tr th {\n",
       "        vertical-align: top;\n",
       "    }\n",
       "\n",
       "    .dataframe thead th {\n",
       "        text-align: right;\n",
       "    }\n",
       "</style>\n",
       "<table border=\"1\" class=\"dataframe\">\n",
       "  <thead>\n",
       "    <tr style=\"text-align: right;\">\n",
       "      <th></th>\n",
       "      <th>High</th>\n",
       "      <th>Low</th>\n",
       "      <th>Open</th>\n",
       "      <th>Close</th>\n",
       "      <th>Volume</th>\n",
       "      <th>Adj Close</th>\n",
       "    </tr>\n",
       "    <tr>\n",
       "      <th>Date</th>\n",
       "      <th></th>\n",
       "      <th></th>\n",
       "      <th></th>\n",
       "      <th></th>\n",
       "      <th></th>\n",
       "      <th></th>\n",
       "    </tr>\n",
       "  </thead>\n",
       "  <tbody>\n",
       "    <tr>\n",
       "      <th>2022-06-07</th>\n",
       "      <td>149.000000</td>\n",
       "      <td>144.100006</td>\n",
       "      <td>144.350006</td>\n",
       "      <td>148.710007</td>\n",
       "      <td>67808200.0</td>\n",
       "      <td>148.710007</td>\n",
       "    </tr>\n",
       "    <tr>\n",
       "      <th>2022-06-08</th>\n",
       "      <td>149.869995</td>\n",
       "      <td>147.460007</td>\n",
       "      <td>148.580002</td>\n",
       "      <td>147.960007</td>\n",
       "      <td>53950200.0</td>\n",
       "      <td>147.960007</td>\n",
       "    </tr>\n",
       "    <tr>\n",
       "      <th>2022-06-09</th>\n",
       "      <td>147.949997</td>\n",
       "      <td>142.529999</td>\n",
       "      <td>147.080002</td>\n",
       "      <td>142.639999</td>\n",
       "      <td>69473000.0</td>\n",
       "      <td>142.639999</td>\n",
       "    </tr>\n",
       "    <tr>\n",
       "      <th>2022-06-10</th>\n",
       "      <td>140.759995</td>\n",
       "      <td>137.059998</td>\n",
       "      <td>140.279999</td>\n",
       "      <td>137.130005</td>\n",
       "      <td>91437900.0</td>\n",
       "      <td>137.130005</td>\n",
       "    </tr>\n",
       "    <tr>\n",
       "      <th>2022-06-13</th>\n",
       "      <td>135.199997</td>\n",
       "      <td>132.570007</td>\n",
       "      <td>132.869995</td>\n",
       "      <td>133.379898</td>\n",
       "      <td>37882207.0</td>\n",
       "      <td>133.379898</td>\n",
       "    </tr>\n",
       "  </tbody>\n",
       "</table>\n",
       "</div>"
      ],
      "text/plain": [
       "                  High         Low        Open       Close      Volume  \\\n",
       "Date                                                                     \n",
       "2022-06-07  149.000000  144.100006  144.350006  148.710007  67808200.0   \n",
       "2022-06-08  149.869995  147.460007  148.580002  147.960007  53950200.0   \n",
       "2022-06-09  147.949997  142.529999  147.080002  142.639999  69473000.0   \n",
       "2022-06-10  140.759995  137.059998  140.279999  137.130005  91437900.0   \n",
       "2022-06-13  135.199997  132.570007  132.869995  133.379898  37882207.0   \n",
       "\n",
       "             Adj Close  \n",
       "Date                    \n",
       "2022-06-07  148.710007  \n",
       "2022-06-08  147.960007  \n",
       "2022-06-09  142.639999  \n",
       "2022-06-10  137.130005  \n",
       "2022-06-13  133.379898  "
      ]
     },
     "execution_count": 7,
     "metadata": {},
     "output_type": "execute_result"
    }
   ],
   "source": [
    "df.tail()"
   ]
  },
  {
   "cell_type": "code",
   "execution_count": 8,
   "metadata": {
    "id": "GYk9Q3WCPkYy"
   },
   "outputs": [],
   "source": [
    "df = df.reset_index()"
   ]
  },
  {
   "cell_type": "code",
   "execution_count": 9,
   "metadata": {
    "id": "1q7oJIBSPzMl"
   },
   "outputs": [],
   "source": [
    "df = df.drop(['Date','Adj Close'], axis=1)"
   ]
  },
  {
   "cell_type": "code",
   "execution_count": 10,
   "metadata": {
    "colab": {
     "base_uri": "https://localhost:8080/",
     "height": 283
    },
    "id": "FjhlX_grP93L",
    "outputId": "fec83cbb-a9f8-45ef-d6a1-fb7dff07aa65"
   },
   "outputs": [
    {
     "data": {
      "text/plain": [
       "[<matplotlib.lines.Line2D at 0x18de8184dc0>]"
      ]
     },
     "execution_count": 10,
     "metadata": {},
     "output_type": "execute_result"
    },
    {
     "data": {
      "image/png": "[encoded data removed]",
      "text/plain": [
       "<Figure size 432x288 with 1 Axes>"
      ]
     },
     "metadata": {
      "needs_background": "light"
     },
     "output_type": "display_data"
    }
   ],
   "source": [
    "plt.plot(df.Close)"
   ]
  },
  {
   "cell_type": "code",
   "execution_count": 11,
   "metadata": {
    "id": "LOX-faUyQCDy"
   },
   "outputs": [],
   "source": [
    "ma_100 = df.Close.rolling(100).mean()\n",
    "ma_200 = df.Close.rolling(200).mean()"
   ]
  },
  {
   "cell_type": "code",
   "execution_count": 12,
   "metadata": {
    "colab": {
     "base_uri": "https://localhost:8080/",
     "height": 610
    },
    "id": "Qt9l2jBcRv8T",
    "outputId": "b6d0cdba-a2ee-475b-dd7a-79ebc26959e0"
   },
   "outputs": [
    {
     "data": {
      "text/plain": [
       "[<matplotlib.lines.Line2D at 0x18de8494670>]"
      ]
     },
     "execution_count": 12,
     "metadata": {},
     "output_type": "execute_result"
    },
    {
     "data": {
      "image/png": "[encoded data removed]",
      "text/plain": [
       "<Figure size 864x720 with 1 Axes>"
      ]
     },
     "metadata": {
      "needs_background": "light"
     },
     "output_type": "display_data"
    }
   ],
   "source": [
    "plt.figure(figsize=(12,10))\n",
    "plt.plot(df.Close)\n",
    "plt.plot(ma_100,'r')\n",
    "plt.plot(ma_200, 'black')"
   ]
  },
  {
   "cell_type": "code",
   "execution_count": 13,
   "metadata": {
    "colab": {
     "base_uri": "https://localhost:8080/"
    },
    "id": "YFrv0utxT_np",
    "outputId": "73b135cd-e8d8-43e3-d822-3483cda9fe73"
   },
   "outputs": [
    {
     "data": {
      "text/plain": [
       "Index(['High', 'Low', 'Open', 'Close', 'Volume'], dtype='object')"
      ]
     },
     "execution_count": 13,
     "metadata": {},
     "output_type": "execute_result"
    }
   ],
   "source": [
    "df.columns"
   ]
  },
  {
   "cell_type": "code",
   "execution_count": 14,
   "metadata": {
    "id": "bfsTDT-jUzta"
   },
   "outputs": [],
   "source": [
    "#Data splitting\n",
    "data_train = pd.DataFrame(df['Close'][0:int(len(df)*0.7)])\n",
    "data_test = pd.DataFrame(df['Close'][int(len(df)*0.7):int(len(df))])"
   ]
  },
  {
   "cell_type": "code",
   "execution_count": 15,
   "metadata": {
    "colab": {
     "base_uri": "https://localhost:8080/",
     "height": 206
    },
    "id": "6gPHQrHUXk_C",
    "outputId": "91c6e32d-a16d-4921-82fa-29d92a34d57c"
   },
   "outputs": [
    {
     "data": {
      "text/html": [
       "<div>\n",
       "<style scoped>\n",
       "    .dataframe tbody tr th:only-of-type {\n",
       "        vertical-align: middle;\n",
       "    }\n",
       "\n",
       "    .dataframe tbody tr th {\n",
       "        vertical-align: top;\n",
       "    }\n",
       "\n",
       "    .dataframe thead th {\n",
       "        text-align: right;\n",
       "    }\n",
       "</style>\n",
       "<table border=\"1\" class=\"dataframe\">\n",
       "  <thead>\n",
       "    <tr style=\"text-align: right;\">\n",
       "      <th></th>\n",
       "      <th>Close</th>\n",
       "    </tr>\n",
       "  </thead>\n",
       "  <tbody>\n",
       "    <tr>\n",
       "      <th>2193</th>\n",
       "      <td>54.592499</td>\n",
       "    </tr>\n",
       "    <tr>\n",
       "      <th>2194</th>\n",
       "      <td>55.007500</td>\n",
       "    </tr>\n",
       "    <tr>\n",
       "      <th>2195</th>\n",
       "      <td>54.415001</td>\n",
       "    </tr>\n",
       "    <tr>\n",
       "      <th>2196</th>\n",
       "      <td>55.197498</td>\n",
       "    </tr>\n",
       "    <tr>\n",
       "      <th>2197</th>\n",
       "      <td>55.547501</td>\n",
       "    </tr>\n",
       "  </tbody>\n",
       "</table>\n",
       "</div>"
      ],
      "text/plain": [
       "          Close\n",
       "2193  54.592499\n",
       "2194  55.007500\n",
       "2195  54.415001\n",
       "2196  55.197498\n",
       "2197  55.547501"
      ]
     },
     "execution_count": 15,
     "metadata": {},
     "output_type": "execute_result"
    }
   ],
   "source": [
    "data_test.head()"
   ]
  },
  {
   "cell_type": "code",
   "execution_count": 16,
   "metadata": {
    "id": "S0CfrZ5uXnsa"
   },
   "outputs": [],
   "source": [
    "from sklearn.preprocessing import MinMaxScaler\n",
    "scaler = MinMaxScaler(feature_range=(0,1))"
   ]
  },
  {
   "cell_type": "code",
   "execution_count": 17,
   "metadata": {
    "id": "O8uvjnigXyTC"
   },
   "outputs": [],
   "source": [
    "data_train_array = scaler.fit_transform(data_train)\n",
    "data_test_array = scaler.fit_transform(data_test)"
   ]
  },
  {
   "cell_type": "code",
   "execution_count": 18,
   "metadata": {
    "colab": {
     "base_uri": "https://localhost:8080/"
    },
    "id": "xO8rc4btX-j7",
    "outputId": "0248b3bc-2a25-4ebd-8c81-11a0b9f42563"
   },
   "outputs": [
    {
     "data": {
      "text/plain": [
       "array([[0.01561354],\n",
       "       [0.01587662],\n",
       "       [0.01345211],\n",
       "       ...,\n",
       "       [0.97750394],\n",
       "       [0.94784107],\n",
       "       [0.94963279]])"
      ]
     },
     "execution_count": 18,
     "metadata": {},
     "output_type": "execute_result"
    }
   ],
   "source": [
    "data_train_array"
   ]
  },
  {
   "cell_type": "code",
   "execution_count": 19,
   "metadata": {
    "id": "bL2D-xREYA9y"
   },
   "outputs": [],
   "source": [
    "X_train = []\n",
    "y_train = []\n",
    "\n",
    "for i in range(100, data_train_array.shape[0]):\n",
    "  X_train.append(data_train_array[i-100:i])\n",
    "  y_train.append(data_train_array[i,0])"
   ]
  },
  {
   "cell_type": "code",
   "execution_count": 28,
   "metadata": {
    "id": "HqyEhkMpYn2S"
   },
   "outputs": [],
   "source": [
    "X_train = np.array(X_train)\n",
    "y_train = np.array(y_train)"
   ]
  },
  {
   "cell_type": "code",
   "execution_count": 29,
   "metadata": {
    "colab": {
     "base_uri": "https://localhost:8080/"
    },
    "id": "9oOroQvaYrWr",
    "outputId": "7600cf74-b077-4eab-beb1-66965cde1f65"
   },
   "outputs": [
    {
     "data": {
      "text/plain": [
       "(2093, 100, 1)"
      ]
     },
     "execution_count": 29,
     "metadata": {},
     "output_type": "execute_result"
    }
   ],
   "source": [
    "X_train.shape"
   ]
  },
  {
   "cell_type": "code",
   "execution_count": 30,
   "metadata": {
    "colab": {
     "base_uri": "https://localhost:8080/"
    },
    "id": "vyL9B7T5Z-Rr",
    "outputId": "c6426b63-ed73-4f2f-d6f3-9529e8e15e24"
   },
   "outputs": [
    {
     "data": {
      "text/plain": [
       "array([0.01587662])"
      ]
     },
     "execution_count": 30,
     "metadata": {},
     "output_type": "execute_result"
    }
   ],
   "source": [
    "data_train_array[1]"
   ]
  },
  {
   "cell_type": "code",
   "execution_count": 31,
   "metadata": {
    "colab": {
     "base_uri": "https://localhost:8080/"
    },
    "id": "gvKTY0EoZyda",
    "outputId": "dde1cad1-ea17-4aae-faca-1b719d64465c"
   },
   "outputs": [
    {
     "data": {
      "text/plain": [
       "array([[1.58766206e-02],\n",
       "       [1.34521125e-02],\n",
       "       [1.31748067e-02],\n",
       "       [1.41702103e-02],\n",
       "       [1.28406575e-02],\n",
       "       [1.11413479e-02],\n",
       "       [1.32245778e-02],\n",
       "       [1.23571666e-02],\n",
       "       [9.86866696e-03],\n",
       "       [1.63458723e-02],\n",
       "       [1.39924752e-02],\n",
       "       [1.13901941e-02],\n",
       "       [4.05268768e-03],\n",
       "       [7.83520821e-03],\n",
       "       [9.87577712e-03],\n",
       "       [1.12551200e-02],\n",
       "       [5.14762409e-03],\n",
       "       [7.10066871e-06],\n",
       "       [1.90546635e-03],\n",
       "       [2.70889562e-03],\n",
       "       [5.10496312e-03],\n",
       "       [0.00000000e+00],\n",
       "       [2.42448916e-03],\n",
       "       [1.47175598e-03],\n",
       "       [2.94353095e-03],\n",
       "       [2.18275316e-03],\n",
       "       [4.70680356e-03],\n",
       "       [5.92262221e-03],\n",
       "       [8.06984354e-03],\n",
       "       [7.46549880e-03],\n",
       "       [7.73566595e-03],\n",
       "       [6.83980458e-03],\n",
       "       [5.95105336e-03],\n",
       "       [3.56209603e-03],\n",
       "       [6.12170673e-03],\n",
       "       [7.07443991e-03],\n",
       "       [8.93725478e-03],\n",
       "       [1.20443384e-02],\n",
       "       [1.19447962e-02],\n",
       "       [1.22860555e-02],\n",
       "       [1.32672388e-02],\n",
       "       [1.91258885e-02],\n",
       "       [1.92183206e-02],\n",
       "       [2.20196578e-02],\n",
       "       [2.33136693e-02],\n",
       "       [2.37829209e-02],\n",
       "       [2.45650387e-02],\n",
       "       [2.26026816e-02],\n",
       "       [2.30363825e-02],\n",
       "       [2.28017566e-02],\n",
       "       [2.31785857e-02],\n",
       "       [2.14721849e-02],\n",
       "       [2.32496873e-02],\n",
       "       [2.58163892e-02],\n",
       "       [2.65345060e-02],\n",
       "       [2.46005800e-02],\n",
       "       [2.76223512e-02],\n",
       "       [2.86817179e-02],\n",
       "       [3.11417768e-02],\n",
       "       [3.05374226e-02],\n",
       "       [3.12270987e-02],\n",
       "       [3.30188215e-02],\n",
       "       [3.37653790e-02],\n",
       "       [3.45190371e-02],\n",
       "       [3.40568861e-02],\n",
       "       [3.53651179e-02],\n",
       "       [3.57206259e-02],\n",
       "       [3.58201492e-02],\n",
       "       [3.81380239e-02],\n",
       "       [4.04345586e-02],\n",
       "       [3.93538331e-02],\n",
       "       [3.91192072e-02],\n",
       "       [3.73559251e-02],\n",
       "       [4.77578542e-02],\n",
       "       [5.29125980e-02],\n",
       "       [5.60125525e-02],\n",
       "       [5.50669295e-02],\n",
       "       [4.97628628e-02],\n",
       "       [4.94500347e-02],\n",
       "       [5.44554745e-02],\n",
       "       [4.90874259e-02],\n",
       "       [5.28272760e-02],\n",
       "       [4.73739055e-02],\n",
       "       [4.54613195e-02],\n",
       "       [3.85361930e-02],\n",
       "       [3.11488775e-02],\n",
       "       [4.40393062e-02],\n",
       "       [4.58381675e-02],\n",
       "       [4.97984231e-02],\n",
       "       [4.71463993e-02],\n",
       "       [4.39184429e-02],\n",
       "       [4.42028494e-02],\n",
       "       [4.28803973e-02],\n",
       "       [4.00221693e-02],\n",
       "       [3.24998082e-02],\n",
       "       [3.57419659e-02],\n",
       "       [3.88987827e-02],\n",
       "       [3.78038558e-02],\n",
       "       [3.70146374e-02],\n",
       "       [4.35842748e-02]])"
      ]
     },
     "execution_count": 31,
     "metadata": {},
     "output_type": "execute_result"
    }
   ],
   "source": [
    "X_train[1]"
   ]
  },
  {
   "cell_type": "code",
   "execution_count": 32,
   "metadata": {},
   "outputs": [],
   "source": [
    "import tensorflow as tf"
   ]
  },
  {
   "cell_type": "code",
   "execution_count": 33,
   "metadata": {
    "id": "ZSo160NDY4yU"
   },
   "outputs": [],
   "source": [
    "from keras.layers import Dense, Dropout, LSTM\n",
    "from keras.models import Sequential"
   ]
  },
  {
   "cell_type": "code",
   "execution_count": 34,
   "metadata": {
    "id": "qxKpXGsWZIwK"
   },
   "outputs": [
    {
     "ename": "NotImplementedError",
     "evalue": "Cannot convert a symbolic Tensor (lstm_2/strided_slice:0) to a numpy array. This error may indicate that you're trying to pass a Tensor to a NumPy call, which is not supported",
     "output_type": "error",
     "traceback": [
      "\u001b[1;31m---------------------------------------------------------------------------\u001b[0m",
      "\u001b[1;31mNotImplementedError\u001b[0m                       Traceback (most recent call last)",
      "Input \u001b[1;32mIn [34]\u001b[0m, in \u001b[0;36m<cell line: 2>\u001b[1;34m()\u001b[0m\n\u001b[0;32m      1\u001b[0m model \u001b[38;5;241m=\u001b[39m Sequential()\n\u001b[1;32m----> 2\u001b[0m \u001b[43mmodel\u001b[49m\u001b[38;5;241;43m.\u001b[39;49m\u001b[43madd\u001b[49m\u001b[43m(\u001b[49m\u001b[43mLSTM\u001b[49m\u001b[43m(\u001b[49m\u001b[43munits\u001b[49m\u001b[38;5;241;43m=\u001b[39;49m\u001b[38;5;241;43m50\u001b[39;49m\u001b[43m,\u001b[49m\u001b[43m \u001b[49m\u001b[43mactivation\u001b[49m\u001b[43m \u001b[49m\u001b[38;5;241;43m=\u001b[39;49m\u001b[43m \u001b[49m\u001b[38;5;124;43m'\u001b[39;49m\u001b[38;5;124;43mrelu\u001b[39;49m\u001b[38;5;124;43m'\u001b[39;49m\u001b[43m,\u001b[49m\u001b[43m \u001b[49m\u001b[43mreturn_sequences\u001b[49m\u001b[38;5;241;43m=\u001b[39;49m\u001b[43m \u001b[49m\u001b[38;5;28;43;01mTrue\u001b[39;49;00m\u001b[43m,\u001b[49m\n\u001b[0;32m      3\u001b[0m \u001b[43m               \u001b[49m\u001b[43minput_shape\u001b[49m\u001b[38;5;241;43m=\u001b[39;49m\u001b[43m(\u001b[49m\u001b[43mX_train\u001b[49m\u001b[38;5;241;43m.\u001b[39;49m\u001b[43mshape\u001b[49m\u001b[43m[\u001b[49m\u001b[38;5;241;43m1\u001b[39;49m\u001b[43m]\u001b[49m\u001b[43m,\u001b[49m\u001b[38;5;241;43m1\u001b[39;49m\u001b[43m)\u001b[49m\u001b[43m)\u001b[49m\u001b[43m)\u001b[49m\n\u001b[0;32m      4\u001b[0m model\u001b[38;5;241m.\u001b[39madd(Dropout(\u001b[38;5;241m0.2\u001b[39m))\n\u001b[0;32m      6\u001b[0m model\u001b[38;5;241m.\u001b[39madd(LSTM(units\u001b[38;5;241m=\u001b[39m\u001b[38;5;241m70\u001b[39m, activation \u001b[38;5;241m=\u001b[39m \u001b[38;5;124m'\u001b[39m\u001b[38;5;124mrelu\u001b[39m\u001b[38;5;124m'\u001b[39m, return_sequences\u001b[38;5;241m=\u001b[39m \u001b[38;5;28;01mTrue\u001b[39;00m))\n",
      "File \u001b[1;32m~\\anaconda3\\envs\\env1\\lib\\site-packages\\tensorflow\\python\\training\\tracking\\base.py:457\u001b[0m, in \u001b[0;36mno_automatic_dependency_tracking.<locals>._method_wrapper\u001b[1;34m(self, *args, **kwargs)\u001b[0m\n\u001b[0;32m    455\u001b[0m \u001b[38;5;28mself\u001b[39m\u001b[38;5;241m.\u001b[39m_self_setattr_tracking \u001b[38;5;241m=\u001b[39m \u001b[38;5;28;01mFalse\u001b[39;00m  \u001b[38;5;66;03m# pylint: disable=protected-access\u001b[39;00m\n\u001b[0;32m    456\u001b[0m \u001b[38;5;28;01mtry\u001b[39;00m:\n\u001b[1;32m--> 457\u001b[0m   result \u001b[38;5;241m=\u001b[39m \u001b[43mmethod\u001b[49m\u001b[43m(\u001b[49m\u001b[38;5;28;43mself\u001b[39;49m\u001b[43m,\u001b[49m\u001b[43m \u001b[49m\u001b[38;5;241;43m*\u001b[39;49m\u001b[43margs\u001b[49m\u001b[43m,\u001b[49m\u001b[43m \u001b[49m\u001b[38;5;241;43m*\u001b[39;49m\u001b[38;5;241;43m*\u001b[39;49m\u001b[43mkwargs\u001b[49m\u001b[43m)\u001b[49m\n\u001b[0;32m    458\u001b[0m \u001b[38;5;28;01mfinally\u001b[39;00m:\n\u001b[0;32m    459\u001b[0m   \u001b[38;5;28mself\u001b[39m\u001b[38;5;241m.\u001b[39m_self_setattr_tracking \u001b[38;5;241m=\u001b[39m previous_value  \u001b[38;5;66;03m# pylint: disable=protected-access\u001b[39;00m\n",
      "File \u001b[1;32m~\\anaconda3\\envs\\env1\\lib\\site-packages\\tensorflow\\python\\keras\\engine\\sequential.py:206\u001b[0m, in \u001b[0;36mSequential.add\u001b[1;34m(self, layer)\u001b[0m\n\u001b[0;32m    201\u001b[0m     x \u001b[38;5;241m=\u001b[39m input_layer\u001b[38;5;241m.\u001b[39mInput(\n\u001b[0;32m    202\u001b[0m         batch_shape\u001b[38;5;241m=\u001b[39mbatch_shape, dtype\u001b[38;5;241m=\u001b[39mdtype, name\u001b[38;5;241m=\u001b[39mlayer\u001b[38;5;241m.\u001b[39mname \u001b[38;5;241m+\u001b[39m \u001b[38;5;124m'\u001b[39m\u001b[38;5;124m_input\u001b[39m\u001b[38;5;124m'\u001b[39m)\n\u001b[0;32m    203\u001b[0m     \u001b[38;5;66;03m# This will build the current layer\u001b[39;00m\n\u001b[0;32m    204\u001b[0m     \u001b[38;5;66;03m# and create the node connecting the current layer\u001b[39;00m\n\u001b[0;32m    205\u001b[0m     \u001b[38;5;66;03m# to the input layer we just created.\u001b[39;00m\n\u001b[1;32m--> 206\u001b[0m     \u001b[43mlayer\u001b[49m\u001b[43m(\u001b[49m\u001b[43mx\u001b[49m\u001b[43m)\u001b[49m\n\u001b[0;32m    207\u001b[0m     set_inputs \u001b[38;5;241m=\u001b[39m \u001b[38;5;28;01mTrue\u001b[39;00m\n\u001b[0;32m    209\u001b[0m \u001b[38;5;28;01mif\u001b[39;00m set_inputs:\n",
      "File \u001b[1;32m~\\anaconda3\\envs\\env1\\lib\\site-packages\\tensorflow\\python\\keras\\layers\\recurrent.py:663\u001b[0m, in \u001b[0;36mRNN.__call__\u001b[1;34m(self, inputs, initial_state, constants, **kwargs)\u001b[0m\n\u001b[0;32m    657\u001b[0m inputs, initial_state, constants \u001b[38;5;241m=\u001b[39m _standardize_args(inputs,\n\u001b[0;32m    658\u001b[0m                                                      initial_state,\n\u001b[0;32m    659\u001b[0m                                                      constants,\n\u001b[0;32m    660\u001b[0m                                                      \u001b[38;5;28mself\u001b[39m\u001b[38;5;241m.\u001b[39m_num_constants)\n\u001b[0;32m    662\u001b[0m \u001b[38;5;28;01mif\u001b[39;00m initial_state \u001b[38;5;129;01mis\u001b[39;00m \u001b[38;5;28;01mNone\u001b[39;00m \u001b[38;5;129;01mand\u001b[39;00m constants \u001b[38;5;129;01mis\u001b[39;00m \u001b[38;5;28;01mNone\u001b[39;00m:\n\u001b[1;32m--> 663\u001b[0m   \u001b[38;5;28;01mreturn\u001b[39;00m \u001b[38;5;28;43msuper\u001b[39;49m\u001b[43m(\u001b[49m\u001b[43mRNN\u001b[49m\u001b[43m,\u001b[49m\u001b[43m \u001b[49m\u001b[38;5;28;43mself\u001b[39;49m\u001b[43m)\u001b[49m\u001b[38;5;241;43m.\u001b[39;49m\u001b[38;5;21;43m__call__\u001b[39;49m\u001b[43m(\u001b[49m\u001b[43minputs\u001b[49m\u001b[43m,\u001b[49m\u001b[43m \u001b[49m\u001b[38;5;241;43m*\u001b[39;49m\u001b[38;5;241;43m*\u001b[39;49m\u001b[43mkwargs\u001b[49m\u001b[43m)\u001b[49m\n\u001b[0;32m    665\u001b[0m \u001b[38;5;66;03m# If any of `initial_state` or `constants` are specified and are Keras\u001b[39;00m\n\u001b[0;32m    666\u001b[0m \u001b[38;5;66;03m# tensors, then add them to the inputs and temporarily modify the\u001b[39;00m\n\u001b[0;32m    667\u001b[0m \u001b[38;5;66;03m# input_spec to include them.\u001b[39;00m\n\u001b[0;32m    669\u001b[0m additional_inputs \u001b[38;5;241m=\u001b[39m []\n",
      "File \u001b[1;32m~\\anaconda3\\envs\\env1\\lib\\site-packages\\tensorflow\\python\\keras\\engine\\base_layer.py:925\u001b[0m, in \u001b[0;36mLayer.__call__\u001b[1;34m(self, *args, **kwargs)\u001b[0m\n\u001b[0;32m    919\u001b[0m \u001b[38;5;66;03m# Functional Model construction mode is invoked when `Layer`s are called on\u001b[39;00m\n\u001b[0;32m    920\u001b[0m \u001b[38;5;66;03m# symbolic `KerasTensor`s, i.e.:\u001b[39;00m\n\u001b[0;32m    921\u001b[0m \u001b[38;5;66;03m# >> inputs = tf.keras.Input(10)\u001b[39;00m\n\u001b[0;32m    922\u001b[0m \u001b[38;5;66;03m# >> outputs = MyLayer()(inputs)  # Functional construction mode.\u001b[39;00m\n\u001b[0;32m    923\u001b[0m \u001b[38;5;66;03m# >> model = tf.keras.Model(inputs, outputs)\u001b[39;00m\n\u001b[0;32m    924\u001b[0m \u001b[38;5;28;01mif\u001b[39;00m _in_functional_construction_mode(\u001b[38;5;28mself\u001b[39m, inputs, args, kwargs, input_list):\n\u001b[1;32m--> 925\u001b[0m   \u001b[38;5;28;01mreturn\u001b[39;00m \u001b[38;5;28;43mself\u001b[39;49m\u001b[38;5;241;43m.\u001b[39;49m\u001b[43m_functional_construction_call\u001b[49m\u001b[43m(\u001b[49m\u001b[43minputs\u001b[49m\u001b[43m,\u001b[49m\u001b[43m \u001b[49m\u001b[43margs\u001b[49m\u001b[43m,\u001b[49m\u001b[43m \u001b[49m\u001b[43mkwargs\u001b[49m\u001b[43m,\u001b[49m\n\u001b[0;32m    926\u001b[0m \u001b[43m                                            \u001b[49m\u001b[43minput_list\u001b[49m\u001b[43m)\u001b[49m\n\u001b[0;32m    928\u001b[0m \u001b[38;5;66;03m# Maintains info about the `Layer.call` stack.\u001b[39;00m\n\u001b[0;32m    929\u001b[0m call_context \u001b[38;5;241m=\u001b[39m base_layer_utils\u001b[38;5;241m.\u001b[39mcall_context()\n",
      "File \u001b[1;32m~\\anaconda3\\envs\\env1\\lib\\site-packages\\tensorflow\\python\\keras\\engine\\base_layer.py:1117\u001b[0m, in \u001b[0;36mLayer._functional_construction_call\u001b[1;34m(self, inputs, args, kwargs, input_list)\u001b[0m\n\u001b[0;32m   1115\u001b[0m \u001b[38;5;28;01mtry\u001b[39;00m:\n\u001b[0;32m   1116\u001b[0m   \u001b[38;5;28;01mwith\u001b[39;00m ops\u001b[38;5;241m.\u001b[39menable_auto_cast_variables(\u001b[38;5;28mself\u001b[39m\u001b[38;5;241m.\u001b[39m_compute_dtype_object):\n\u001b[1;32m-> 1117\u001b[0m     outputs \u001b[38;5;241m=\u001b[39m \u001b[43mcall_fn\u001b[49m\u001b[43m(\u001b[49m\u001b[43mcast_inputs\u001b[49m\u001b[43m,\u001b[49m\u001b[43m \u001b[49m\u001b[38;5;241;43m*\u001b[39;49m\u001b[43margs\u001b[49m\u001b[43m,\u001b[49m\u001b[43m \u001b[49m\u001b[38;5;241;43m*\u001b[39;49m\u001b[38;5;241;43m*\u001b[39;49m\u001b[43mkwargs\u001b[49m\u001b[43m)\u001b[49m\n\u001b[0;32m   1119\u001b[0m \u001b[38;5;28;01mexcept\u001b[39;00m errors\u001b[38;5;241m.\u001b[39mOperatorNotAllowedInGraphError \u001b[38;5;28;01mas\u001b[39;00m e:\n\u001b[0;32m   1120\u001b[0m   \u001b[38;5;28;01mraise\u001b[39;00m \u001b[38;5;167;01mTypeError\u001b[39;00m(\u001b[38;5;124m'\u001b[39m\u001b[38;5;124mYou are attempting to use Python control \u001b[39m\u001b[38;5;124m'\u001b[39m\n\u001b[0;32m   1121\u001b[0m                   \u001b[38;5;124m'\u001b[39m\u001b[38;5;124mflow in a layer that was not declared to be \u001b[39m\u001b[38;5;124m'\u001b[39m\n\u001b[0;32m   1122\u001b[0m                   \u001b[38;5;124m'\u001b[39m\u001b[38;5;124mdynamic. Pass `dynamic=True` to the class \u001b[39m\u001b[38;5;124m'\u001b[39m\n\u001b[0;32m   1123\u001b[0m                   \u001b[38;5;124m'\u001b[39m\u001b[38;5;124mconstructor.\u001b[39m\u001b[38;5;130;01m\\n\u001b[39;00m\u001b[38;5;124mEncountered error:\u001b[39m\u001b[38;5;130;01m\\n\u001b[39;00m\u001b[38;5;124m\"\u001b[39m\u001b[38;5;124m\"\u001b[39m\u001b[38;5;124m\"\u001b[39m\u001b[38;5;130;01m\\n\u001b[39;00m\u001b[38;5;124m'\u001b[39m \u001b[38;5;241m+\u001b[39m \u001b[38;5;28mstr\u001b[39m(e) \u001b[38;5;241m+\u001b[39m\n\u001b[0;32m   1124\u001b[0m                   \u001b[38;5;124m'\u001b[39m\u001b[38;5;130;01m\\n\u001b[39;00m\u001b[38;5;124m\"\u001b[39m\u001b[38;5;124m\"\u001b[39m\u001b[38;5;124m\"\u001b[39m\u001b[38;5;124m'\u001b[39m)\n",
      "File \u001b[1;32m~\\anaconda3\\envs\\env1\\lib\\site-packages\\tensorflow\\python\\keras\\layers\\recurrent_v2.py:1108\u001b[0m, in \u001b[0;36mLSTM.call\u001b[1;34m(self, inputs, mask, training, initial_state)\u001b[0m\n\u001b[0;32m   1105\u001b[0m \u001b[38;5;28mself\u001b[39m\u001b[38;5;241m.\u001b[39m_validate_args_if_ragged(is_ragged_input, mask)\n\u001b[0;32m   1107\u001b[0m \u001b[38;5;66;03m# LSTM does not support constants. Ignore it during process.\u001b[39;00m\n\u001b[1;32m-> 1108\u001b[0m inputs, initial_state, _ \u001b[38;5;241m=\u001b[39m \u001b[38;5;28;43mself\u001b[39;49m\u001b[38;5;241;43m.\u001b[39;49m\u001b[43m_process_inputs\u001b[49m\u001b[43m(\u001b[49m\u001b[43minputs\u001b[49m\u001b[43m,\u001b[49m\u001b[43m \u001b[49m\u001b[43minitial_state\u001b[49m\u001b[43m,\u001b[49m\u001b[43m \u001b[49m\u001b[38;5;28;43;01mNone\u001b[39;49;00m\u001b[43m)\u001b[49m\n\u001b[0;32m   1110\u001b[0m \u001b[38;5;28;01mif\u001b[39;00m \u001b[38;5;28misinstance\u001b[39m(mask, \u001b[38;5;28mlist\u001b[39m):\n\u001b[0;32m   1111\u001b[0m   mask \u001b[38;5;241m=\u001b[39m mask[\u001b[38;5;241m0\u001b[39m]\n",
      "File \u001b[1;32m~\\anaconda3\\envs\\env1\\lib\\site-packages\\tensorflow\\python\\keras\\layers\\recurrent.py:862\u001b[0m, in \u001b[0;36mRNN._process_inputs\u001b[1;34m(self, inputs, initial_state, constants)\u001b[0m\n\u001b[0;32m    860\u001b[0m     initial_state \u001b[38;5;241m=\u001b[39m \u001b[38;5;28mself\u001b[39m\u001b[38;5;241m.\u001b[39mstates\n\u001b[0;32m    861\u001b[0m \u001b[38;5;28;01melif\u001b[39;00m initial_state \u001b[38;5;129;01mis\u001b[39;00m \u001b[38;5;28;01mNone\u001b[39;00m:\n\u001b[1;32m--> 862\u001b[0m   initial_state \u001b[38;5;241m=\u001b[39m \u001b[38;5;28;43mself\u001b[39;49m\u001b[38;5;241;43m.\u001b[39;49m\u001b[43mget_initial_state\u001b[49m\u001b[43m(\u001b[49m\u001b[43minputs\u001b[49m\u001b[43m)\u001b[49m\n\u001b[0;32m    864\u001b[0m \u001b[38;5;28;01mif\u001b[39;00m \u001b[38;5;28mlen\u001b[39m(initial_state) \u001b[38;5;241m!=\u001b[39m \u001b[38;5;28mlen\u001b[39m(\u001b[38;5;28mself\u001b[39m\u001b[38;5;241m.\u001b[39mstates):\n\u001b[0;32m    865\u001b[0m   \u001b[38;5;28;01mraise\u001b[39;00m \u001b[38;5;167;01mValueError\u001b[39;00m(\u001b[38;5;124m'\u001b[39m\u001b[38;5;124mLayer has \u001b[39m\u001b[38;5;124m'\u001b[39m \u001b[38;5;241m+\u001b[39m \u001b[38;5;28mstr\u001b[39m(\u001b[38;5;28mlen\u001b[39m(\u001b[38;5;28mself\u001b[39m\u001b[38;5;241m.\u001b[39mstates)) \u001b[38;5;241m+\u001b[39m\n\u001b[0;32m    866\u001b[0m                    \u001b[38;5;124m'\u001b[39m\u001b[38;5;124m states but was passed \u001b[39m\u001b[38;5;124m'\u001b[39m \u001b[38;5;241m+\u001b[39m \u001b[38;5;28mstr\u001b[39m(\u001b[38;5;28mlen\u001b[39m(initial_state)) \u001b[38;5;241m+\u001b[39m\n\u001b[0;32m    867\u001b[0m                    \u001b[38;5;124m'\u001b[39m\u001b[38;5;124m initial states.\u001b[39m\u001b[38;5;124m'\u001b[39m)\n",
      "File \u001b[1;32m~\\anaconda3\\envs\\env1\\lib\\site-packages\\tensorflow\\python\\keras\\layers\\recurrent.py:645\u001b[0m, in \u001b[0;36mRNN.get_initial_state\u001b[1;34m(self, inputs)\u001b[0m\n\u001b[0;32m    643\u001b[0m dtype \u001b[38;5;241m=\u001b[39m inputs\u001b[38;5;241m.\u001b[39mdtype\n\u001b[0;32m    644\u001b[0m \u001b[38;5;28;01mif\u001b[39;00m get_initial_state_fn:\n\u001b[1;32m--> 645\u001b[0m   init_state \u001b[38;5;241m=\u001b[39m \u001b[43mget_initial_state_fn\u001b[49m\u001b[43m(\u001b[49m\n\u001b[0;32m    646\u001b[0m \u001b[43m      \u001b[49m\u001b[43minputs\u001b[49m\u001b[38;5;241;43m=\u001b[39;49m\u001b[38;5;28;43;01mNone\u001b[39;49;00m\u001b[43m,\u001b[49m\u001b[43m \u001b[49m\u001b[43mbatch_size\u001b[49m\u001b[38;5;241;43m=\u001b[39;49m\u001b[43mbatch_size\u001b[49m\u001b[43m,\u001b[49m\u001b[43m \u001b[49m\u001b[43mdtype\u001b[49m\u001b[38;5;241;43m=\u001b[39;49m\u001b[43mdtype\u001b[49m\u001b[43m)\u001b[49m\n\u001b[0;32m    647\u001b[0m \u001b[38;5;28;01melse\u001b[39;00m:\n\u001b[0;32m    648\u001b[0m   init_state \u001b[38;5;241m=\u001b[39m _generate_zero_filled_state(batch_size, \u001b[38;5;28mself\u001b[39m\u001b[38;5;241m.\u001b[39mcell\u001b[38;5;241m.\u001b[39mstate_size,\n\u001b[0;32m    649\u001b[0m                                            dtype)\n",
      "File \u001b[1;32m~\\anaconda3\\envs\\env1\\lib\\site-packages\\tensorflow\\python\\keras\\layers\\recurrent.py:2523\u001b[0m, in \u001b[0;36mLSTMCell.get_initial_state\u001b[1;34m(self, inputs, batch_size, dtype)\u001b[0m\n\u001b[0;32m   2522\u001b[0m \u001b[38;5;28;01mdef\u001b[39;00m \u001b[38;5;21mget_initial_state\u001b[39m(\u001b[38;5;28mself\u001b[39m, inputs\u001b[38;5;241m=\u001b[39m\u001b[38;5;28;01mNone\u001b[39;00m, batch_size\u001b[38;5;241m=\u001b[39m\u001b[38;5;28;01mNone\u001b[39;00m, dtype\u001b[38;5;241m=\u001b[39m\u001b[38;5;28;01mNone\u001b[39;00m):\n\u001b[1;32m-> 2523\u001b[0m   \u001b[38;5;28;01mreturn\u001b[39;00m \u001b[38;5;28mlist\u001b[39m(\u001b[43m_generate_zero_filled_state_for_cell\u001b[49m\u001b[43m(\u001b[49m\n\u001b[0;32m   2524\u001b[0m \u001b[43m      \u001b[49m\u001b[38;5;28;43mself\u001b[39;49m\u001b[43m,\u001b[49m\u001b[43m \u001b[49m\u001b[43minputs\u001b[49m\u001b[43m,\u001b[49m\u001b[43m \u001b[49m\u001b[43mbatch_size\u001b[49m\u001b[43m,\u001b[49m\u001b[43m \u001b[49m\u001b[43mdtype\u001b[49m\u001b[43m)\u001b[49m)\n",
      "File \u001b[1;32m~\\anaconda3\\envs\\env1\\lib\\site-packages\\tensorflow\\python\\keras\\layers\\recurrent.py:2968\u001b[0m, in \u001b[0;36m_generate_zero_filled_state_for_cell\u001b[1;34m(cell, inputs, batch_size, dtype)\u001b[0m\n\u001b[0;32m   2966\u001b[0m   batch_size \u001b[38;5;241m=\u001b[39m array_ops\u001b[38;5;241m.\u001b[39mshape(inputs)[\u001b[38;5;241m0\u001b[39m]\n\u001b[0;32m   2967\u001b[0m   dtype \u001b[38;5;241m=\u001b[39m inputs\u001b[38;5;241m.\u001b[39mdtype\n\u001b[1;32m-> 2968\u001b[0m \u001b[38;5;28;01mreturn\u001b[39;00m \u001b[43m_generate_zero_filled_state\u001b[49m\u001b[43m(\u001b[49m\u001b[43mbatch_size\u001b[49m\u001b[43m,\u001b[49m\u001b[43m \u001b[49m\u001b[43mcell\u001b[49m\u001b[38;5;241;43m.\u001b[39;49m\u001b[43mstate_size\u001b[49m\u001b[43m,\u001b[49m\u001b[43m \u001b[49m\u001b[43mdtype\u001b[49m\u001b[43m)\u001b[49m\n",
      "File \u001b[1;32m~\\anaconda3\\envs\\env1\\lib\\site-packages\\tensorflow\\python\\keras\\layers\\recurrent.py:2984\u001b[0m, in \u001b[0;36m_generate_zero_filled_state\u001b[1;34m(batch_size_tensor, state_size, dtype)\u001b[0m\n\u001b[0;32m   2981\u001b[0m   \u001b[38;5;28;01mreturn\u001b[39;00m array_ops\u001b[38;5;241m.\u001b[39mzeros(init_state_size, dtype\u001b[38;5;241m=\u001b[39mdtype)\n\u001b[0;32m   2983\u001b[0m \u001b[38;5;28;01mif\u001b[39;00m nest\u001b[38;5;241m.\u001b[39mis_sequence(state_size):\n\u001b[1;32m-> 2984\u001b[0m   \u001b[38;5;28;01mreturn\u001b[39;00m \u001b[43mnest\u001b[49m\u001b[38;5;241;43m.\u001b[39;49m\u001b[43mmap_structure\u001b[49m\u001b[43m(\u001b[49m\u001b[43mcreate_zeros\u001b[49m\u001b[43m,\u001b[49m\u001b[43m \u001b[49m\u001b[43mstate_size\u001b[49m\u001b[43m)\u001b[49m\n\u001b[0;32m   2985\u001b[0m \u001b[38;5;28;01melse\u001b[39;00m:\n\u001b[0;32m   2986\u001b[0m   \u001b[38;5;28;01mreturn\u001b[39;00m create_zeros(state_size)\n",
      "File \u001b[1;32m~\\anaconda3\\envs\\env1\\lib\\site-packages\\tensorflow\\python\\util\\nest.py:635\u001b[0m, in \u001b[0;36mmap_structure\u001b[1;34m(func, *structure, **kwargs)\u001b[0m\n\u001b[0;32m    631\u001b[0m flat_structure \u001b[38;5;241m=\u001b[39m [flatten(s, expand_composites) \u001b[38;5;28;01mfor\u001b[39;00m s \u001b[38;5;129;01min\u001b[39;00m structure]\n\u001b[0;32m    632\u001b[0m entries \u001b[38;5;241m=\u001b[39m \u001b[38;5;28mzip\u001b[39m(\u001b[38;5;241m*\u001b[39mflat_structure)\n\u001b[0;32m    634\u001b[0m \u001b[38;5;28;01mreturn\u001b[39;00m pack_sequence_as(\n\u001b[1;32m--> 635\u001b[0m     structure[\u001b[38;5;241m0\u001b[39m], [func(\u001b[38;5;241m*\u001b[39mx) \u001b[38;5;28;01mfor\u001b[39;00m x \u001b[38;5;129;01min\u001b[39;00m entries],\n\u001b[0;32m    636\u001b[0m     expand_composites\u001b[38;5;241m=\u001b[39mexpand_composites)\n",
      "File \u001b[1;32m~\\anaconda3\\envs\\env1\\lib\\site-packages\\tensorflow\\python\\util\\nest.py:635\u001b[0m, in \u001b[0;36m<listcomp>\u001b[1;34m(.0)\u001b[0m\n\u001b[0;32m    631\u001b[0m flat_structure \u001b[38;5;241m=\u001b[39m [flatten(s, expand_composites) \u001b[38;5;28;01mfor\u001b[39;00m s \u001b[38;5;129;01min\u001b[39;00m structure]\n\u001b[0;32m    632\u001b[0m entries \u001b[38;5;241m=\u001b[39m \u001b[38;5;28mzip\u001b[39m(\u001b[38;5;241m*\u001b[39mflat_structure)\n\u001b[0;32m    634\u001b[0m \u001b[38;5;28;01mreturn\u001b[39;00m pack_sequence_as(\n\u001b[1;32m--> 635\u001b[0m     structure[\u001b[38;5;241m0\u001b[39m], [\u001b[43mfunc\u001b[49m\u001b[43m(\u001b[49m\u001b[38;5;241;43m*\u001b[39;49m\u001b[43mx\u001b[49m\u001b[43m)\u001b[49m \u001b[38;5;28;01mfor\u001b[39;00m x \u001b[38;5;129;01min\u001b[39;00m entries],\n\u001b[0;32m    636\u001b[0m     expand_composites\u001b[38;5;241m=\u001b[39mexpand_composites)\n",
      "File \u001b[1;32m~\\anaconda3\\envs\\env1\\lib\\site-packages\\tensorflow\\python\\keras\\layers\\recurrent.py:2981\u001b[0m, in \u001b[0;36m_generate_zero_filled_state.<locals>.create_zeros\u001b[1;34m(unnested_state_size)\u001b[0m\n\u001b[0;32m   2979\u001b[0m flat_dims \u001b[38;5;241m=\u001b[39m tensor_shape\u001b[38;5;241m.\u001b[39mas_shape(unnested_state_size)\u001b[38;5;241m.\u001b[39mas_list()\n\u001b[0;32m   2980\u001b[0m init_state_size \u001b[38;5;241m=\u001b[39m [batch_size_tensor] \u001b[38;5;241m+\u001b[39m flat_dims\n\u001b[1;32m-> 2981\u001b[0m \u001b[38;5;28;01mreturn\u001b[39;00m \u001b[43marray_ops\u001b[49m\u001b[38;5;241;43m.\u001b[39;49m\u001b[43mzeros\u001b[49m\u001b[43m(\u001b[49m\u001b[43minit_state_size\u001b[49m\u001b[43m,\u001b[49m\u001b[43m \u001b[49m\u001b[43mdtype\u001b[49m\u001b[38;5;241;43m=\u001b[39;49m\u001b[43mdtype\u001b[49m\u001b[43m)\u001b[49m\n",
      "File \u001b[1;32m~\\anaconda3\\envs\\env1\\lib\\site-packages\\tensorflow\\python\\util\\dispatch.py:201\u001b[0m, in \u001b[0;36madd_dispatch_support.<locals>.wrapper\u001b[1;34m(*args, **kwargs)\u001b[0m\n\u001b[0;32m    199\u001b[0m \u001b[38;5;124;03m\"\"\"Call target, and fall back on dispatchers if there is a TypeError.\"\"\"\u001b[39;00m\n\u001b[0;32m    200\u001b[0m \u001b[38;5;28;01mtry\u001b[39;00m:\n\u001b[1;32m--> 201\u001b[0m   \u001b[38;5;28;01mreturn\u001b[39;00m \u001b[43mtarget\u001b[49m\u001b[43m(\u001b[49m\u001b[38;5;241;43m*\u001b[39;49m\u001b[43margs\u001b[49m\u001b[43m,\u001b[49m\u001b[43m \u001b[49m\u001b[38;5;241;43m*\u001b[39;49m\u001b[38;5;241;43m*\u001b[39;49m\u001b[43mkwargs\u001b[49m\u001b[43m)\u001b[49m\n\u001b[0;32m    202\u001b[0m \u001b[38;5;28;01mexcept\u001b[39;00m (\u001b[38;5;167;01mTypeError\u001b[39;00m, \u001b[38;5;167;01mValueError\u001b[39;00m):\n\u001b[0;32m    203\u001b[0m   \u001b[38;5;66;03m# Note: convert_to_eager_tensor currently raises a ValueError, not a\u001b[39;00m\n\u001b[0;32m    204\u001b[0m   \u001b[38;5;66;03m# TypeError, when given unexpected types.  So we need to catch both.\u001b[39;00m\n\u001b[0;32m    205\u001b[0m   result \u001b[38;5;241m=\u001b[39m dispatch(wrapper, args, kwargs)\n",
      "File \u001b[1;32m~\\anaconda3\\envs\\env1\\lib\\site-packages\\tensorflow\\python\\ops\\array_ops.py:2747\u001b[0m, in \u001b[0;36m_tag_zeros_tensor.<locals>.wrapped\u001b[1;34m(*args, **kwargs)\u001b[0m\n\u001b[0;32m   2746\u001b[0m \u001b[38;5;28;01mdef\u001b[39;00m \u001b[38;5;21mwrapped\u001b[39m(\u001b[38;5;241m*\u001b[39margs, \u001b[38;5;241m*\u001b[39m\u001b[38;5;241m*\u001b[39mkwargs):\n\u001b[1;32m-> 2747\u001b[0m   tensor \u001b[38;5;241m=\u001b[39m \u001b[43mfun\u001b[49m\u001b[43m(\u001b[49m\u001b[38;5;241;43m*\u001b[39;49m\u001b[43margs\u001b[49m\u001b[43m,\u001b[49m\u001b[43m \u001b[49m\u001b[38;5;241;43m*\u001b[39;49m\u001b[38;5;241;43m*\u001b[39;49m\u001b[43mkwargs\u001b[49m\u001b[43m)\u001b[49m\n\u001b[0;32m   2748\u001b[0m   tensor\u001b[38;5;241m.\u001b[39m_is_zeros_tensor \u001b[38;5;241m=\u001b[39m \u001b[38;5;28;01mTrue\u001b[39;00m\n\u001b[0;32m   2749\u001b[0m   \u001b[38;5;28;01mreturn\u001b[39;00m tensor\n",
      "File \u001b[1;32m~\\anaconda3\\envs\\env1\\lib\\site-packages\\tensorflow\\python\\ops\\array_ops.py:2794\u001b[0m, in \u001b[0;36mzeros\u001b[1;34m(shape, dtype, name)\u001b[0m\n\u001b[0;32m   2790\u001b[0m \u001b[38;5;28;01mtry\u001b[39;00m:\n\u001b[0;32m   2791\u001b[0m   \u001b[38;5;28;01mif\u001b[39;00m \u001b[38;5;129;01mnot\u001b[39;00m context\u001b[38;5;241m.\u001b[39mexecuting_eagerly():\n\u001b[0;32m   2792\u001b[0m     \u001b[38;5;66;03m# Create a constant if it won't be very big. Otherwise create a fill\u001b[39;00m\n\u001b[0;32m   2793\u001b[0m     \u001b[38;5;66;03m# op to prevent serialized GraphDefs from becoming too large.\u001b[39;00m\n\u001b[1;32m-> 2794\u001b[0m     output \u001b[38;5;241m=\u001b[39m \u001b[43m_constant_if_small\u001b[49m\u001b[43m(\u001b[49m\u001b[43mzero\u001b[49m\u001b[43m,\u001b[49m\u001b[43m \u001b[49m\u001b[43mshape\u001b[49m\u001b[43m,\u001b[49m\u001b[43m \u001b[49m\u001b[43mdtype\u001b[49m\u001b[43m,\u001b[49m\u001b[43m \u001b[49m\u001b[43mname\u001b[49m\u001b[43m)\u001b[49m\n\u001b[0;32m   2795\u001b[0m     \u001b[38;5;28;01mif\u001b[39;00m output \u001b[38;5;129;01mis\u001b[39;00m \u001b[38;5;129;01mnot\u001b[39;00m \u001b[38;5;28;01mNone\u001b[39;00m:\n\u001b[0;32m   2796\u001b[0m       \u001b[38;5;28;01mreturn\u001b[39;00m output\n",
      "File \u001b[1;32m~\\anaconda3\\envs\\env1\\lib\\site-packages\\tensorflow\\python\\ops\\array_ops.py:2732\u001b[0m, in \u001b[0;36m_constant_if_small\u001b[1;34m(value, shape, dtype, name)\u001b[0m\n\u001b[0;32m   2730\u001b[0m \u001b[38;5;28;01mdef\u001b[39;00m \u001b[38;5;21m_constant_if_small\u001b[39m(value, shape, dtype, name):\n\u001b[0;32m   2731\u001b[0m   \u001b[38;5;28;01mtry\u001b[39;00m:\n\u001b[1;32m-> 2732\u001b[0m     \u001b[38;5;28;01mif\u001b[39;00m \u001b[43mnp\u001b[49m\u001b[38;5;241;43m.\u001b[39;49m\u001b[43mprod\u001b[49m\u001b[43m(\u001b[49m\u001b[43mshape\u001b[49m\u001b[43m)\u001b[49m \u001b[38;5;241m<\u001b[39m \u001b[38;5;241m1000\u001b[39m:\n\u001b[0;32m   2733\u001b[0m       \u001b[38;5;28;01mreturn\u001b[39;00m constant(value, shape\u001b[38;5;241m=\u001b[39mshape, dtype\u001b[38;5;241m=\u001b[39mdtype, name\u001b[38;5;241m=\u001b[39mname)\n\u001b[0;32m   2734\u001b[0m   \u001b[38;5;28;01mexcept\u001b[39;00m \u001b[38;5;167;01mTypeError\u001b[39;00m:\n\u001b[0;32m   2735\u001b[0m     \u001b[38;5;66;03m# Happens when shape is a Tensor, list with Tensor elements, etc.\u001b[39;00m\n",
      "File \u001b[1;32m<__array_function__ internals>:180\u001b[0m, in \u001b[0;36mprod\u001b[1;34m(*args, **kwargs)\u001b[0m\n",
      "File \u001b[1;32m~\\anaconda3\\envs\\env1\\lib\\site-packages\\numpy\\core\\fromnumeric.py:3088\u001b[0m, in \u001b[0;36mprod\u001b[1;34m(a, axis, dtype, out, keepdims, initial, where)\u001b[0m\n\u001b[0;32m   2970\u001b[0m \u001b[38;5;129m@array_function_dispatch\u001b[39m(_prod_dispatcher)\n\u001b[0;32m   2971\u001b[0m \u001b[38;5;28;01mdef\u001b[39;00m \u001b[38;5;21mprod\u001b[39m(a, axis\u001b[38;5;241m=\u001b[39m\u001b[38;5;28;01mNone\u001b[39;00m, dtype\u001b[38;5;241m=\u001b[39m\u001b[38;5;28;01mNone\u001b[39;00m, out\u001b[38;5;241m=\u001b[39m\u001b[38;5;28;01mNone\u001b[39;00m, keepdims\u001b[38;5;241m=\u001b[39mnp\u001b[38;5;241m.\u001b[39m_NoValue,\n\u001b[0;32m   2972\u001b[0m          initial\u001b[38;5;241m=\u001b[39mnp\u001b[38;5;241m.\u001b[39m_NoValue, where\u001b[38;5;241m=\u001b[39mnp\u001b[38;5;241m.\u001b[39m_NoValue):\n\u001b[0;32m   2973\u001b[0m     \u001b[38;5;124;03m\"\"\"\u001b[39;00m\n\u001b[0;32m   2974\u001b[0m \u001b[38;5;124;03m    Return the product of array elements over a given axis.\u001b[39;00m\n\u001b[0;32m   2975\u001b[0m \n\u001b[1;32m   (...)\u001b[0m\n\u001b[0;32m   3086\u001b[0m \u001b[38;5;124;03m    10\u001b[39;00m\n\u001b[0;32m   3087\u001b[0m \u001b[38;5;124;03m    \"\"\"\u001b[39;00m\n\u001b[1;32m-> 3088\u001b[0m     \u001b[38;5;28;01mreturn\u001b[39;00m \u001b[43m_wrapreduction\u001b[49m\u001b[43m(\u001b[49m\u001b[43ma\u001b[49m\u001b[43m,\u001b[49m\u001b[43m \u001b[49m\u001b[43mnp\u001b[49m\u001b[38;5;241;43m.\u001b[39;49m\u001b[43mmultiply\u001b[49m\u001b[43m,\u001b[49m\u001b[43m \u001b[49m\u001b[38;5;124;43m'\u001b[39;49m\u001b[38;5;124;43mprod\u001b[39;49m\u001b[38;5;124;43m'\u001b[39;49m\u001b[43m,\u001b[49m\u001b[43m \u001b[49m\u001b[43maxis\u001b[49m\u001b[43m,\u001b[49m\u001b[43m \u001b[49m\u001b[43mdtype\u001b[49m\u001b[43m,\u001b[49m\u001b[43m \u001b[49m\u001b[43mout\u001b[49m\u001b[43m,\u001b[49m\n\u001b[0;32m   3089\u001b[0m \u001b[43m                          \u001b[49m\u001b[43mkeepdims\u001b[49m\u001b[38;5;241;43m=\u001b[39;49m\u001b[43mkeepdims\u001b[49m\u001b[43m,\u001b[49m\u001b[43m \u001b[49m\u001b[43minitial\u001b[49m\u001b[38;5;241;43m=\u001b[39;49m\u001b[43minitial\u001b[49m\u001b[43m,\u001b[49m\u001b[43m \u001b[49m\u001b[43mwhere\u001b[49m\u001b[38;5;241;43m=\u001b[39;49m\u001b[43mwhere\u001b[49m\u001b[43m)\u001b[49m\n",
      "File \u001b[1;32m~\\anaconda3\\envs\\env1\\lib\\site-packages\\numpy\\core\\fromnumeric.py:86\u001b[0m, in \u001b[0;36m_wrapreduction\u001b[1;34m(obj, ufunc, method, axis, dtype, out, **kwargs)\u001b[0m\n\u001b[0;32m     83\u001b[0m         \u001b[38;5;28;01melse\u001b[39;00m:\n\u001b[0;32m     84\u001b[0m             \u001b[38;5;28;01mreturn\u001b[39;00m reduction(axis\u001b[38;5;241m=\u001b[39maxis, out\u001b[38;5;241m=\u001b[39mout, \u001b[38;5;241m*\u001b[39m\u001b[38;5;241m*\u001b[39mpasskwargs)\n\u001b[1;32m---> 86\u001b[0m \u001b[38;5;28;01mreturn\u001b[39;00m \u001b[43mufunc\u001b[49m\u001b[38;5;241;43m.\u001b[39;49m\u001b[43mreduce\u001b[49m\u001b[43m(\u001b[49m\u001b[43mobj\u001b[49m\u001b[43m,\u001b[49m\u001b[43m \u001b[49m\u001b[43maxis\u001b[49m\u001b[43m,\u001b[49m\u001b[43m \u001b[49m\u001b[43mdtype\u001b[49m\u001b[43m,\u001b[49m\u001b[43m \u001b[49m\u001b[43mout\u001b[49m\u001b[43m,\u001b[49m\u001b[43m \u001b[49m\u001b[38;5;241;43m*\u001b[39;49m\u001b[38;5;241;43m*\u001b[39;49m\u001b[43mpasskwargs\u001b[49m\u001b[43m)\u001b[49m\n",
      "File \u001b[1;32m~\\anaconda3\\envs\\env1\\lib\\site-packages\\tensorflow\\python\\framework\\ops.py:845\u001b[0m, in \u001b[0;36mTensor.__array__\u001b[1;34m(self)\u001b[0m\n\u001b[0;32m    844\u001b[0m \u001b[38;5;28;01mdef\u001b[39;00m \u001b[38;5;21m__array__\u001b[39m(\u001b[38;5;28mself\u001b[39m):\n\u001b[1;32m--> 845\u001b[0m   \u001b[38;5;28;01mraise\u001b[39;00m \u001b[38;5;167;01mNotImplementedError\u001b[39;00m(\n\u001b[0;32m    846\u001b[0m       \u001b[38;5;124m\"\u001b[39m\u001b[38;5;124mCannot convert a symbolic Tensor (\u001b[39m\u001b[38;5;132;01m{}\u001b[39;00m\u001b[38;5;124m) to a numpy array.\u001b[39m\u001b[38;5;124m\"\u001b[39m\n\u001b[0;32m    847\u001b[0m       \u001b[38;5;124m\"\u001b[39m\u001b[38;5;124m This error may indicate that you\u001b[39m\u001b[38;5;124m'\u001b[39m\u001b[38;5;124mre trying to pass a Tensor to\u001b[39m\u001b[38;5;124m\"\u001b[39m\n\u001b[0;32m    848\u001b[0m       \u001b[38;5;124m\"\u001b[39m\u001b[38;5;124m a NumPy call, which is not supported\u001b[39m\u001b[38;5;124m\"\u001b[39m\u001b[38;5;241m.\u001b[39mformat(\u001b[38;5;28mself\u001b[39m\u001b[38;5;241m.\u001b[39mname))\n",
      "\u001b[1;31mNotImplementedError\u001b[0m: Cannot convert a symbolic Tensor (lstm_2/strided_slice:0) to a numpy array. This error may indicate that you're trying to pass a Tensor to a NumPy call, which is not supported"
     ]
    }
   ],
   "source": [
    "model = Sequential()\n",
    "model.add(LSTM(units=50, activation = 'relu', return_sequences= True,\n",
    "               input_shape=(X_train.shape[1],1)))\n",
    "model.add(Dropout(0.2))\n",
    "\n",
    "model.add(LSTM(units=70, activation = 'relu', return_sequences= True))\n",
    "model.add(Dropout(0.3))\n",
    "\n",
    "model.add(LSTM(units=80, activation = 'relu', return_sequences= True))\n",
    "model.add(Dropout(0.4))\n",
    "\n",
    "model.add(LSTM(units=50, activation = 'relu'))\n",
    "model.add(Dropout(0.5))\n",
    "\n",
    "model.add(Dense(units=1))"
   ]
  },
  {
   "cell_type": "code",
   "execution_count": 35,
   "metadata": {
    "colab": {
     "base_uri": "https://localhost:8080/"
    },
    "id": "qfvQxBRAbMeT",
    "outputId": "008c0e96-16dc-45b0-f043-316655d1d754"
   },
   "outputs": [
    {
     "ename": "ValueError",
     "evalue": "This model has not yet been built. Build the model first by calling `build()` or calling `fit()` with some data, or specify an `input_shape` argument in the first layer(s) for automatic build.",
     "output_type": "error",
     "traceback": [
      "\u001b[1;31m---------------------------------------------------------------------------\u001b[0m",
      "\u001b[1;31mValueError\u001b[0m                                Traceback (most recent call last)",
      "Input \u001b[1;32mIn [35]\u001b[0m, in \u001b[0;36m<cell line: 1>\u001b[1;34m()\u001b[0m\n\u001b[1;32m----> 1\u001b[0m \u001b[43mmodel\u001b[49m\u001b[38;5;241;43m.\u001b[39;49m\u001b[43msummary\u001b[49m\u001b[43m(\u001b[49m\u001b[43m)\u001b[49m\n",
      "File \u001b[1;32m~\\anaconda3\\envs\\env1\\lib\\site-packages\\tensorflow\\python\\keras\\engine\\training.py:2351\u001b[0m, in \u001b[0;36mModel.summary\u001b[1;34m(self, line_length, positions, print_fn)\u001b[0m\n\u001b[0;32m   2333\u001b[0m \u001b[38;5;124;03m\"\"\"Prints a string summary of the network.\u001b[39;00m\n\u001b[0;32m   2334\u001b[0m \n\u001b[0;32m   2335\u001b[0m \u001b[38;5;124;03mArguments:\u001b[39;00m\n\u001b[1;32m   (...)\u001b[0m\n\u001b[0;32m   2348\u001b[0m \u001b[38;5;124;03m    ValueError: if `summary()` is called before the model is built.\u001b[39;00m\n\u001b[0;32m   2349\u001b[0m \u001b[38;5;124;03m\"\"\"\u001b[39;00m\n\u001b[0;32m   2350\u001b[0m \u001b[38;5;28;01mif\u001b[39;00m \u001b[38;5;129;01mnot\u001b[39;00m \u001b[38;5;28mself\u001b[39m\u001b[38;5;241m.\u001b[39mbuilt:\n\u001b[1;32m-> 2351\u001b[0m   \u001b[38;5;28;01mraise\u001b[39;00m \u001b[38;5;167;01mValueError\u001b[39;00m(\u001b[38;5;124m'\u001b[39m\u001b[38;5;124mThis model has not yet been built. \u001b[39m\u001b[38;5;124m'\u001b[39m\n\u001b[0;32m   2352\u001b[0m                    \u001b[38;5;124m'\u001b[39m\u001b[38;5;124mBuild the model first by calling `build()` or calling \u001b[39m\u001b[38;5;124m'\u001b[39m\n\u001b[0;32m   2353\u001b[0m                    \u001b[38;5;124m'\u001b[39m\u001b[38;5;124m`fit()` with some data, or specify \u001b[39m\u001b[38;5;124m'\u001b[39m\n\u001b[0;32m   2354\u001b[0m                    \u001b[38;5;124m'\u001b[39m\u001b[38;5;124man `input_shape` argument in the first layer(s) for \u001b[39m\u001b[38;5;124m'\u001b[39m\n\u001b[0;32m   2355\u001b[0m                    \u001b[38;5;124m'\u001b[39m\u001b[38;5;124mautomatic build.\u001b[39m\u001b[38;5;124m'\u001b[39m)\n\u001b[0;32m   2356\u001b[0m layer_utils\u001b[38;5;241m.\u001b[39mprint_summary(\u001b[38;5;28mself\u001b[39m,\n\u001b[0;32m   2357\u001b[0m                           line_length\u001b[38;5;241m=\u001b[39mline_length,\n\u001b[0;32m   2358\u001b[0m                           positions\u001b[38;5;241m=\u001b[39mpositions,\n\u001b[0;32m   2359\u001b[0m                           print_fn\u001b[38;5;241m=\u001b[39mprint_fn)\n",
      "\u001b[1;31mValueError\u001b[0m: This model has not yet been built. Build the model first by calling `build()` or calling `fit()` with some data, or specify an `input_shape` argument in the first layer(s) for automatic build."
     ]
    }
   ],
   "source": [
    "model.summary()"
   ]
  },
  {
   "cell_type": "code",
   "execution_count": null,
   "metadata": {
    "colab": {
     "base_uri": "https://localhost:8080/"
    },
    "id": "wqMcVuAKbO7y",
    "outputId": "4c409cd3-c17f-4dc7-9232-bdeedc1f2890"
   },
   "outputs": [
    {
     "name": "stdout",
     "output_type": "stream",
     "text": [
      "Epoch 1/50\n",
      "66/66 [==============================] - 21s 240ms/step - loss: 0.0350\n",
      "Epoch 2/50\n",
      "66/66 [==============================] - 16s 240ms/step - loss: 0.0092\n",
      "Epoch 3/50\n",
      "66/66 [==============================] - 17s 264ms/step - loss: 0.0081\n",
      "Epoch 4/50\n",
      "66/66 [==============================] - 17s 264ms/step - loss: 0.0075\n",
      "Epoch 5/50\n",
      "66/66 [==============================] - 17s 257ms/step - loss: 0.0064\n",
      "Epoch 6/50\n",
      "66/66 [==============================] - 16s 240ms/step - loss: 0.0058\n",
      "Epoch 7/50\n",
      "66/66 [==============================] - 16s 239ms/step - loss: 0.0060\n",
      "Epoch 8/50\n",
      "66/66 [==============================] - 16s 239ms/step - loss: 0.0054\n",
      "Epoch 9/50\n",
      "66/66 [==============================] - 16s 243ms/step - loss: 0.0052\n",
      "Epoch 10/50\n",
      "66/66 [==============================] - 16s 244ms/step - loss: 0.0050\n",
      "Epoch 11/50\n",
      "66/66 [==============================] - 16s 242ms/step - loss: 0.0043\n",
      "Epoch 12/50\n",
      "66/66 [==============================] - 17s 255ms/step - loss: 0.0045\n",
      "Epoch 13/50\n",
      "66/66 [==============================] - 16s 242ms/step - loss: 0.0044\n",
      "Epoch 14/50\n",
      "66/66 [==============================] - 16s 239ms/step - loss: 0.0045\n",
      "Epoch 15/50\n",
      "66/66 [==============================] - 16s 241ms/step - loss: 0.0037\n",
      "Epoch 16/50\n",
      "66/66 [==============================] - 16s 243ms/step - loss: 0.0037\n",
      "Epoch 17/50\n",
      "66/66 [==============================] - 16s 242ms/step - loss: 0.0031\n",
      "Epoch 18/50\n",
      "66/66 [==============================] - 16s 241ms/step - loss: 0.0032\n",
      "Epoch 19/50\n",
      "66/66 [==============================] - 16s 242ms/step - loss: 0.0034\n",
      "Epoch 20/50\n",
      "66/66 [==============================] - 16s 240ms/step - loss: 0.0032\n",
      "Epoch 21/50\n",
      "66/66 [==============================] - 17s 256ms/step - loss: 0.0029\n",
      "Epoch 22/50\n",
      "66/66 [==============================] - 16s 240ms/step - loss: 0.0030\n",
      "Epoch 23/50\n",
      "66/66 [==============================] - 16s 241ms/step - loss: 0.0027\n",
      "Epoch 24/50\n",
      "66/66 [==============================] - 16s 242ms/step - loss: 0.0030\n",
      "Epoch 25/50\n",
      "66/66 [==============================] - 16s 243ms/step - loss: 0.0030\n",
      "Epoch 26/50\n",
      "66/66 [==============================] - 16s 243ms/step - loss: 0.0029\n",
      "Epoch 27/50\n",
      "66/66 [==============================] - 16s 243ms/step - loss: 0.0030\n",
      "Epoch 28/50\n",
      "66/66 [==============================] - 16s 244ms/step - loss: 0.0025\n",
      "Epoch 29/50\n",
      "66/66 [==============================] - 16s 242ms/step - loss: 0.0029\n",
      "Epoch 30/50\n",
      "66/66 [==============================] - 18s 266ms/step - loss: 0.0024\n",
      "Epoch 31/50\n",
      "66/66 [==============================] - 16s 243ms/step - loss: 0.0025\n",
      "Epoch 32/50\n",
      "66/66 [==============================] - 16s 244ms/step - loss: 0.0026\n",
      "Epoch 33/50\n",
      "66/66 [==============================] - 16s 244ms/step - loss: 0.0026\n",
      "Epoch 34/50\n",
      "66/66 [==============================] - 16s 249ms/step - loss: 0.0024\n",
      "Epoch 35/50\n",
      "66/66 [==============================] - 16s 247ms/step - loss: 0.0027\n",
      "Epoch 36/50\n",
      "66/66 [==============================] - 16s 242ms/step - loss: 0.0024\n",
      "Epoch 37/50\n",
      "66/66 [==============================] - 16s 240ms/step - loss: 0.0028\n",
      "Epoch 38/50\n",
      "66/66 [==============================] - 16s 243ms/step - loss: 0.0025\n",
      "Epoch 39/50\n",
      "66/66 [==============================] - 17s 259ms/step - loss: 0.0025\n",
      "Epoch 40/50\n",
      "66/66 [==============================] - 16s 240ms/step - loss: 0.0025\n",
      "Epoch 41/50\n",
      "66/66 [==============================] - 16s 243ms/step - loss: 0.0023\n",
      "Epoch 42/50\n",
      "66/66 [==============================] - 16s 242ms/step - loss: 0.0025\n",
      "Epoch 43/50\n",
      "66/66 [==============================] - 16s 240ms/step - loss: 0.0026\n",
      "Epoch 44/50\n",
      "66/66 [==============================] - 16s 242ms/step - loss: 0.0026\n",
      "Epoch 45/50\n",
      "66/66 [==============================] - 16s 240ms/step - loss: 0.0025\n",
      "Epoch 46/50\n",
      "66/66 [==============================] - 16s 242ms/step - loss: 0.0025\n",
      "Epoch 47/50\n",
      "66/66 [==============================] - 16s 243ms/step - loss: 0.0025\n",
      "Epoch 48/50\n",
      "66/66 [==============================] - 16s 247ms/step - loss: 0.0025\n",
      "Epoch 49/50\n",
      "66/66 [==============================] - 17s 253ms/step - loss: 0.0028\n",
      "Epoch 50/50\n",
      "66/66 [==============================] - 17s 253ms/step - loss: 0.0025\n"
     ]
    },
    {
     "data": {
      "text/plain": [
       "<keras.callbacks.History at 0x7f43254304d0>"
      ]
     },
     "execution_count": 81,
     "metadata": {},
     "output_type": "execute_result"
    }
   ],
   "source": [
    "model.compile(optimizer='adam',loss='mean_squared_error')\n",
    "model.fit(X_train,y_train, epochs=50)"
   ]
  },
  {
   "cell_type": "code",
   "execution_count": null,
   "metadata": {
    "colab": {
     "base_uri": "https://localhost:8080/"
    },
    "id": "1PpKtnssbnLS",
    "outputId": "f14e8451-1bf7-48df-fba7-aba1a66a34cb"
   },
   "outputs": [
    {
     "name": "stdout",
     "output_type": "stream",
     "text": [
      "INFO:tensorflow:Assets written to: final_project/model/assets\n"
     ]
    },
    {
     "name": "stderr",
     "output_type": "stream",
     "text": [
      "INFO:tensorflow:Assets written to: final_project/model/assets\n",
      "WARNING:absl:<keras.layers.recurrent.LSTMCell object at 0x7f43254d1e10> has the same name 'LSTMCell' as a built-in Keras object. Consider renaming <class 'keras.layers.recurrent.LSTMCell'> to avoid naming conflicts when loading with `tf.keras.models.load_model`. If renaming is not possible, pass the object in the `custom_objects` parameter of the load function.\n",
      "WARNING:absl:<keras.layers.recurrent.LSTMCell object at 0x7f432549a250> has the same name 'LSTMCell' as a built-in Keras object. Consider renaming <class 'keras.layers.recurrent.LSTMCell'> to avoid naming conflicts when loading with `tf.keras.models.load_model`. If renaming is not possible, pass the object in the `custom_objects` parameter of the load function.\n",
      "WARNING:absl:<keras.layers.recurrent.LSTMCell object at 0x7f43254a1dd0> has the same name 'LSTMCell' as a built-in Keras object. Consider renaming <class 'keras.layers.recurrent.LSTMCell'> to avoid naming conflicts when loading with `tf.keras.models.load_model`. If renaming is not possible, pass the object in the `custom_objects` parameter of the load function.\n",
      "WARNING:absl:<keras.layers.recurrent.LSTMCell object at 0x7f43253ef490> has the same name 'LSTMCell' as a built-in Keras object. Consider renaming <class 'keras.layers.recurrent.LSTMCell'> to avoid naming conflicts when loading with `tf.keras.models.load_model`. If renaming is not possible, pass the object in the `custom_objects` parameter of the load function.\n"
     ]
    }
   ],
   "source": [
    "\n",
    "!mkdir -p saved_model\n",
    "#model.save('saved_model/my_model') \n",
    "\n",
    "model.save('final_project/model')"
   ]
  },
  {
   "cell_type": "code",
   "execution_count": null,
   "metadata": {
    "colab": {
     "base_uri": "https://localhost:8080/"
    },
    "id": "DKVF5zFZg3OR",
    "outputId": "609880db-738d-486f-b984-05d096107523"
   },
   "outputs": [
    {
     "name": "stdout",
     "output_type": "stream",
     "text": [
      "LSTM  LSTM1  LSTM.h5  model\n",
      "assets\tkeras_metadata.pb  saved_model.pb  variables\n"
     ]
    }
   ],
   "source": [
    "# my_model directory\n",
    "!ls final_project\n",
    "\n",
    "# Contains an assets folder, saved_model.pb, and variables folder.\n",
    "!ls final_project/model"
   ]
  },
  {
   "cell_type": "code",
   "execution_count": null,
   "metadata": {
    "colab": {
     "base_uri": "https://localhost:8080/",
     "height": 206
    },
    "id": "YjfnXrRNompv",
    "outputId": "f4b1e452-1931-49d4-ab8e-2bf265f82d67"
   },
   "outputs": [
    {
     "data": {
      "text/html": [
       "\n",
       "  <div id=\"df-f657a9e8-d2e7-489b-bea4-18537ff06617\">\n",
       "    <div class=\"colab-df-container\">\n",
       "      <div>\n",
       "<style scoped>\n",
       "    .dataframe tbody tr th:only-of-type {\n",
       "        vertical-align: middle;\n",
       "    }\n",
       "\n",
       "    .dataframe tbody tr th {\n",
       "        vertical-align: top;\n",
       "    }\n",
       "\n",
       "    .dataframe thead th {\n",
       "        text-align: right;\n",
       "    }\n",
       "</style>\n",
       "<table border=\"1\" class=\"dataframe\">\n",
       "  <thead>\n",
       "    <tr style=\"text-align: right;\">\n",
       "      <th></th>\n",
       "      <th>Close</th>\n",
       "    </tr>\n",
       "  </thead>\n",
       "  <tbody>\n",
       "    <tr>\n",
       "      <th>2192</th>\n",
       "      <td>54.560001</td>\n",
       "    </tr>\n",
       "    <tr>\n",
       "      <th>2193</th>\n",
       "      <td>54.592499</td>\n",
       "    </tr>\n",
       "    <tr>\n",
       "      <th>2194</th>\n",
       "      <td>55.007500</td>\n",
       "    </tr>\n",
       "    <tr>\n",
       "      <th>2195</th>\n",
       "      <td>54.415001</td>\n",
       "    </tr>\n",
       "    <tr>\n",
       "      <th>2196</th>\n",
       "      <td>55.197498</td>\n",
       "    </tr>\n",
       "  </tbody>\n",
       "</table>\n",
       "</div>\n",
       "      <button class=\"colab-df-convert\" onclick=\"convertToInteractive('df-f657a9e8-d2e7-489b-bea4-18537ff06617')\"\n",
       "              title=\"Convert this dataframe to an interactive table.\"\n",
       "              style=\"display:none;\">\n",
       "        \n",
       "  <svg xmlns=\"http://www.w3.org/2000/svg\" height=\"24px\"viewBox=\"0 0 24 24\"\n",
       "       width=\"24px\">\n",
       "    <path d=\"M0 0h24v24H0V0z\" fill=\"none\"/>\n",
       "    <path d=\"M18.56 5.44l.94 2.06.94-2.06 2.06-.94-2.06-.94-.94-2.06-.94 2.06-2.06.94zm-11 1L8.5 8.5l.94-2.06 2.06-.94-2.06-.94L8.5 2.5l-.94 2.06-2.06.94zm10 10l.94 2.06.94-2.06 2.06-.94-2.06-.94-.94-2.06-.94 2.06-2.06.94z\"/><path d=\"M17.41 7.96l-1.37-1.37c-.4-.4-.92-.59-1.43-.59-.52 0-1.04.2-1.43.59L10.3 9.45l-7.72 7.72c-.78.78-.78 2.05 0 2.83L4 21.41c.39.39.9.59 1.41.59.51 0 1.02-.2 1.41-.59l7.78-7.78 2.81-2.81c.8-.78.8-2.07 0-2.86zM5.41 20L4 18.59l7.72-7.72 1.47 1.35L5.41 20z\"/>\n",
       "  </svg>\n",
       "      </button>\n",
       "      \n",
       "  <style>\n",
       "    .colab-df-container {\n",
       "      display:flex;\n",
       "      flex-wrap:wrap;\n",
       "      gap: 12px;\n",
       "    }\n",
       "\n",
       "    .colab-df-convert {\n",
       "      background-color: #E8F0FE;\n",
       "      border: none;\n",
       "      border-radius: 50%;\n",
       "      cursor: pointer;\n",
       "      display: none;\n",
       "      fill: #1967D2;\n",
       "      height: 32px;\n",
       "      padding: 0 0 0 0;\n",
       "      width: 32px;\n",
       "    }\n",
       "\n",
       "    .colab-df-convert:hover {\n",
       "      background-color: #E2EBFA;\n",
       "      box-shadow: 0px 1px 2px rgba(60, 64, 67, 0.3), 0px 1px 3px 1px rgba(60, 64, 67, 0.15);\n",
       "      fill: #174EA6;\n",
       "    }\n",
       "\n",
       "    [theme=dark] .colab-df-convert {\n",
       "      background-color: #3B4455;\n",
       "      fill: #D2E3FC;\n",
       "    }\n",
       "\n",
       "    [theme=dark] .colab-df-convert:hover {\n",
       "      background-color: #434B5C;\n",
       "      box-shadow: 0px 1px 3px 1px rgba(0, 0, 0, 0.15);\n",
       "      filter: drop-shadow(0px 1px 2px rgba(0, 0, 0, 0.3));\n",
       "      fill: #FFFFFF;\n",
       "    }\n",
       "  </style>\n",
       "\n",
       "      <script>\n",
       "        const buttonEl =\n",
       "          document.querySelector('#df-f657a9e8-d2e7-489b-bea4-18537ff06617 button.colab-df-convert');\n",
       "        buttonEl.style.display =\n",
       "          google.colab.kernel.accessAllowed ? 'block' : 'none';\n",
       "\n",
       "        async function convertToInteractive(key) {\n",
       "          const element = document.querySelector('#df-f657a9e8-d2e7-489b-bea4-18537ff06617');\n",
       "          const dataTable =\n",
       "            await google.colab.kernel.invokeFunction('convertToInteractive',\n",
       "                                                     [key], {});\n",
       "          if (!dataTable) return;\n",
       "\n",
       "          const docLinkHtml = 'Like what you see? Visit the ' +\n",
       "            '<a target=\"_blank\" href=https://colab.research.google.com/notebooks/data_table.ipynb>data table notebook</a>'\n",
       "            + ' to learn more about interactive tables.';\n",
       "          element.innerHTML = '';\n",
       "          dataTable['output_type'] = 'display_data';\n",
       "          await google.colab.output.renderOutput(dataTable, element);\n",
       "          const docLink = document.createElement('div');\n",
       "          docLink.innerHTML = docLinkHtml;\n",
       "          element.appendChild(docLink);\n",
       "        }\n",
       "      </script>\n",
       "    </div>\n",
       "  </div>\n",
       "  "
      ],
      "text/plain": [
       "          Close\n",
       "2192  54.560001\n",
       "2193  54.592499\n",
       "2194  55.007500\n",
       "2195  54.415001\n",
       "2196  55.197498"
      ]
     },
     "execution_count": 92,
     "metadata": {},
     "output_type": "execute_result"
    }
   ],
   "source": [
    "data_test.head()"
   ]
  },
  {
   "cell_type": "code",
   "execution_count": null,
   "metadata": {
    "colab": {
     "base_uri": "https://localhost:8080/",
     "height": 206
    },
    "id": "LTWJAOEGopd4",
    "outputId": "3a0810da-dae5-46d0-c627-00cddfd62b1d"
   },
   "outputs": [
    {
     "data": {
      "text/html": [
       "\n",
       "  <div id=\"df-2c9d4310-dcdf-45cc-b759-4d30bf7b00f5\">\n",
       "    <div class=\"colab-df-container\">\n",
       "      <div>\n",
       "<style scoped>\n",
       "    .dataframe tbody tr th:only-of-type {\n",
       "        vertical-align: middle;\n",
       "    }\n",
       "\n",
       "    .dataframe tbody tr th {\n",
       "        vertical-align: top;\n",
       "    }\n",
       "\n",
       "    .dataframe thead th {\n",
       "        text-align: right;\n",
       "    }\n",
       "</style>\n",
       "<table border=\"1\" class=\"dataframe\">\n",
       "  <thead>\n",
       "    <tr style=\"text-align: right;\">\n",
       "      <th></th>\n",
       "      <th>Close</th>\n",
       "    </tr>\n",
       "  </thead>\n",
       "  <tbody>\n",
       "    <tr>\n",
       "      <th>0</th>\n",
       "      <td>7.643214</td>\n",
       "    </tr>\n",
       "    <tr>\n",
       "      <th>1</th>\n",
       "      <td>7.656429</td>\n",
       "    </tr>\n",
       "    <tr>\n",
       "      <th>2</th>\n",
       "      <td>7.534643</td>\n",
       "    </tr>\n",
       "    <tr>\n",
       "      <th>3</th>\n",
       "      <td>7.520714</td>\n",
       "    </tr>\n",
       "    <tr>\n",
       "      <th>4</th>\n",
       "      <td>7.570714</td>\n",
       "    </tr>\n",
       "  </tbody>\n",
       "</table>\n",
       "</div>\n",
       "      <button class=\"colab-df-convert\" onclick=\"convertToInteractive('df-2c9d4310-dcdf-45cc-b759-4d30bf7b00f5')\"\n",
       "              title=\"Convert this dataframe to an interactive table.\"\n",
       "              style=\"display:none;\">\n",
       "        \n",
       "  <svg xmlns=\"http://www.w3.org/2000/svg\" height=\"24px\"viewBox=\"0 0 24 24\"\n",
       "       width=\"24px\">\n",
       "    <path d=\"M0 0h24v24H0V0z\" fill=\"none\"/>\n",
       "    <path d=\"M18.56 5.44l.94 2.06.94-2.06 2.06-.94-2.06-.94-.94-2.06-.94 2.06-2.06.94zm-11 1L8.5 8.5l.94-2.06 2.06-.94-2.06-.94L8.5 2.5l-.94 2.06-2.06.94zm10 10l.94 2.06.94-2.06 2.06-.94-2.06-.94-.94-2.06-.94 2.06-2.06.94z\"/><path d=\"M17.41 7.96l-1.37-1.37c-.4-.4-.92-.59-1.43-.59-.52 0-1.04.2-1.43.59L10.3 9.45l-7.72 7.72c-.78.78-.78 2.05 0 2.83L4 21.41c.39.39.9.59 1.41.59.51 0 1.02-.2 1.41-.59l7.78-7.78 2.81-2.81c.8-.78.8-2.07 0-2.86zM5.41 20L4 18.59l7.72-7.72 1.47 1.35L5.41 20z\"/>\n",
       "  </svg>\n",
       "      </button>\n",
       "      \n",
       "  <style>\n",
       "    .colab-df-container {\n",
       "      display:flex;\n",
       "      flex-wrap:wrap;\n",
       "      gap: 12px;\n",
       "    }\n",
       "\n",
       "    .colab-df-convert {\n",
       "      background-color: #E8F0FE;\n",
       "      border: none;\n",
       "      border-radius: 50%;\n",
       "      cursor: pointer;\n",
       "      display: none;\n",
       "      fill: #1967D2;\n",
       "      height: 32px;\n",
       "      padding: 0 0 0 0;\n",
       "      width: 32px;\n",
       "    }\n",
       "\n",
       "    .colab-df-convert:hover {\n",
       "      background-color: #E2EBFA;\n",
       "      box-shadow: 0px 1px 2px rgba(60, 64, 67, 0.3), 0px 1px 3px 1px rgba(60, 64, 67, 0.15);\n",
       "      fill: #174EA6;\n",
       "    }\n",
       "\n",
       "    [theme=dark] .colab-df-convert {\n",
       "      background-color: #3B4455;\n",
       "      fill: #D2E3FC;\n",
       "    }\n",
       "\n",
       "    [theme=dark] .colab-df-convert:hover {\n",
       "      background-color: #434B5C;\n",
       "      box-shadow: 0px 1px 3px 1px rgba(0, 0, 0, 0.15);\n",
       "      filter: drop-shadow(0px 1px 2px rgba(0, 0, 0, 0.3));\n",
       "      fill: #FFFFFF;\n",
       "    }\n",
       "  </style>\n",
       "\n",
       "      <script>\n",
       "        const buttonEl =\n",
       "          document.querySelector('#df-2c9d4310-dcdf-45cc-b759-4d30bf7b00f5 button.colab-df-convert');\n",
       "        buttonEl.style.display =\n",
       "          google.colab.kernel.accessAllowed ? 'block' : 'none';\n",
       "\n",
       "        async function convertToInteractive(key) {\n",
       "          const element = document.querySelector('#df-2c9d4310-dcdf-45cc-b759-4d30bf7b00f5');\n",
       "          const dataTable =\n",
       "            await google.colab.kernel.invokeFunction('convertToInteractive',\n",
       "                                                     [key], {});\n",
       "          if (!dataTable) return;\n",
       "\n",
       "          const docLinkHtml = 'Like what you see? Visit the ' +\n",
       "            '<a target=\"_blank\" href=https://colab.research.google.com/notebooks/data_table.ipynb>data table notebook</a>'\n",
       "            + ' to learn more about interactive tables.';\n",
       "          element.innerHTML = '';\n",
       "          dataTable['output_type'] = 'display_data';\n",
       "          await google.colab.output.renderOutput(dataTable, element);\n",
       "          const docLink = document.createElement('div');\n",
       "          docLink.innerHTML = docLinkHtml;\n",
       "          element.appendChild(docLink);\n",
       "        }\n",
       "      </script>\n",
       "    </div>\n",
       "  </div>\n",
       "  "
      ],
      "text/plain": [
       "      Close\n",
       "0  7.643214\n",
       "1  7.656429\n",
       "2  7.534643\n",
       "3  7.520714\n",
       "4  7.570714"
      ]
     },
     "execution_count": 93,
     "metadata": {},
     "output_type": "execute_result"
    }
   ],
   "source": [
    "data_train.head()"
   ]
  },
  {
   "cell_type": "code",
   "execution_count": null,
   "metadata": {
    "id": "NdCICFJVoyzo"
   },
   "outputs": [],
   "source": [
    "past_100_days = data_train.tail(100)"
   ]
  },
  {
   "cell_type": "code",
   "execution_count": null,
   "metadata": {
    "colab": {
     "base_uri": "https://localhost:8080/",
     "height": 424
    },
    "id": "-h6ijgge9OOF",
    "outputId": "39f505dc-0e11-4fc1-c035-b1feb9939326"
   },
   "outputs": [
    {
     "data": {
      "text/html": [
       "\n",
       "  <div id=\"df-29bc6548-7be6-4fe5-9bff-5e2c27d40ce1\">\n",
       "    <div class=\"colab-df-container\">\n",
       "      <div>\n",
       "<style scoped>\n",
       "    .dataframe tbody tr th:only-of-type {\n",
       "        vertical-align: middle;\n",
       "    }\n",
       "\n",
       "    .dataframe tbody tr th {\n",
       "        vertical-align: top;\n",
       "    }\n",
       "\n",
       "    .dataframe thead th {\n",
       "        text-align: right;\n",
       "    }\n",
       "</style>\n",
       "<table border=\"1\" class=\"dataframe\">\n",
       "  <thead>\n",
       "    <tr style=\"text-align: right;\">\n",
       "      <th></th>\n",
       "      <th>Close</th>\n",
       "    </tr>\n",
       "  </thead>\n",
       "  <tbody>\n",
       "    <tr>\n",
       "      <th>2092</th>\n",
       "      <td>41.055000</td>\n",
       "    </tr>\n",
       "    <tr>\n",
       "      <th>2093</th>\n",
       "      <td>40.580002</td>\n",
       "    </tr>\n",
       "    <tr>\n",
       "      <th>2094</th>\n",
       "      <td>41.314999</td>\n",
       "    </tr>\n",
       "    <tr>\n",
       "      <th>2095</th>\n",
       "      <td>42.275002</td>\n",
       "    </tr>\n",
       "    <tr>\n",
       "      <th>2096</th>\n",
       "      <td>44.142502</td>\n",
       "    </tr>\n",
       "    <tr>\n",
       "      <th>...</th>\n",
       "      <td>...</td>\n",
       "    </tr>\n",
       "    <tr>\n",
       "      <th>2187</th>\n",
       "      <td>55.962502</td>\n",
       "    </tr>\n",
       "    <tr>\n",
       "      <th>2188</th>\n",
       "      <td>55.267502</td>\n",
       "    </tr>\n",
       "    <tr>\n",
       "      <th>2189</th>\n",
       "      <td>56.602501</td>\n",
       "    </tr>\n",
       "    <tr>\n",
       "      <th>2190</th>\n",
       "      <td>55.959999</td>\n",
       "    </tr>\n",
       "    <tr>\n",
       "      <th>2191</th>\n",
       "      <td>54.470001</td>\n",
       "    </tr>\n",
       "  </tbody>\n",
       "</table>\n",
       "<p>100 rows × 1 columns</p>\n",
       "</div>\n",
       "      <button class=\"colab-df-convert\" onclick=\"convertToInteractive('df-29bc6548-7be6-4fe5-9bff-5e2c27d40ce1')\"\n",
       "              title=\"Convert this dataframe to an interactive table.\"\n",
       "              style=\"display:none;\">\n",
       "        \n",
       "  <svg xmlns=\"http://www.w3.org/2000/svg\" height=\"24px\"viewBox=\"0 0 24 24\"\n",
       "       width=\"24px\">\n",
       "    <path d=\"M0 0h24v24H0V0z\" fill=\"none\"/>\n",
       "    <path d=\"M18.56 5.44l.94 2.06.94-2.06 2.06-.94-2.06-.94-.94-2.06-.94 2.06-2.06.94zm-11 1L8.5 8.5l.94-2.06 2.06-.94-2.06-.94L8.5 2.5l-.94 2.06-2.06.94zm10 10l.94 2.06.94-2.06 2.06-.94-2.06-.94-.94-2.06-.94 2.06-2.06.94z\"/><path d=\"M17.41 7.96l-1.37-1.37c-.4-.4-.92-.59-1.43-.59-.52 0-1.04.2-1.43.59L10.3 9.45l-7.72 7.72c-.78.78-.78 2.05 0 2.83L4 21.41c.39.39.9.59 1.41.59.51 0 1.02-.2 1.41-.59l7.78-7.78 2.81-2.81c.8-.78.8-2.07 0-2.86zM5.41 20L4 18.59l7.72-7.72 1.47 1.35L5.41 20z\"/>\n",
       "  </svg>\n",
       "      </button>\n",
       "      \n",
       "  <style>\n",
       "    .colab-df-container {\n",
       "      display:flex;\n",
       "      flex-wrap:wrap;\n",
       "      gap: 12px;\n",
       "    }\n",
       "\n",
       "    .colab-df-convert {\n",
       "      background-color: #E8F0FE;\n",
       "      border: none;\n",
       "      border-radius: 50%;\n",
       "      cursor: pointer;\n",
       "      display: none;\n",
       "      fill: #1967D2;\n",
       "      height: 32px;\n",
       "      padding: 0 0 0 0;\n",
       "      width: 32px;\n",
       "    }\n",
       "\n",
       "    .colab-df-convert:hover {\n",
       "      background-color: #E2EBFA;\n",
       "      box-shadow: 0px 1px 2px rgba(60, 64, 67, 0.3), 0px 1px 3px 1px rgba(60, 64, 67, 0.15);\n",
       "      fill: #174EA6;\n",
       "    }\n",
       "\n",
       "    [theme=dark] .colab-df-convert {\n",
       "      background-color: #3B4455;\n",
       "      fill: #D2E3FC;\n",
       "    }\n",
       "\n",
       "    [theme=dark] .colab-df-convert:hover {\n",
       "      background-color: #434B5C;\n",
       "      box-shadow: 0px 1px 3px 1px rgba(0, 0, 0, 0.15);\n",
       "      filter: drop-shadow(0px 1px 2px rgba(0, 0, 0, 0.3));\n",
       "      fill: #FFFFFF;\n",
       "    }\n",
       "  </style>\n",
       "\n",
       "      <script>\n",
       "        const buttonEl =\n",
       "          document.querySelector('#df-29bc6548-7be6-4fe5-9bff-5e2c27d40ce1 button.colab-df-convert');\n",
       "        buttonEl.style.display =\n",
       "          google.colab.kernel.accessAllowed ? 'block' : 'none';\n",
       "\n",
       "        async function convertToInteractive(key) {\n",
       "          const element = document.querySelector('#df-29bc6548-7be6-4fe5-9bff-5e2c27d40ce1');\n",
       "          const dataTable =\n",
       "            await google.colab.kernel.invokeFunction('convertToInteractive',\n",
       "                                                     [key], {});\n",
       "          if (!dataTable) return;\n",
       "\n",
       "          const docLinkHtml = 'Like what you see? Visit the ' +\n",
       "            '<a target=\"_blank\" href=https://colab.research.google.com/notebooks/data_table.ipynb>data table notebook</a>'\n",
       "            + ' to learn more about interactive tables.';\n",
       "          element.innerHTML = '';\n",
       "          dataTable['output_type'] = 'display_data';\n",
       "          await google.colab.output.renderOutput(dataTable, element);\n",
       "          const docLink = document.createElement('div');\n",
       "          docLink.innerHTML = docLinkHtml;\n",
       "          element.appendChild(docLink);\n",
       "        }\n",
       "      </script>\n",
       "    </div>\n",
       "  </div>\n",
       "  "
      ],
      "text/plain": [
       "          Close\n",
       "2092  41.055000\n",
       "2093  40.580002\n",
       "2094  41.314999\n",
       "2095  42.275002\n",
       "2096  44.142502\n",
       "...         ...\n",
       "2187  55.962502\n",
       "2188  55.267502\n",
       "2189  56.602501\n",
       "2190  55.959999\n",
       "2191  54.470001\n",
       "\n",
       "[100 rows x 1 columns]"
      ]
     },
     "execution_count": 98,
     "metadata": {},
     "output_type": "execute_result"
    }
   ],
   "source": [
    "past_100_days"
   ]
  },
  {
   "cell_type": "code",
   "execution_count": null,
   "metadata": {
    "id": "H3oJD-7O885d"
   },
   "outputs": [],
   "source": [
    "final_df = past_100_days.append(data_test, ignore_index= True)"
   ]
  },
  {
   "cell_type": "code",
   "execution_count": null,
   "metadata": {
    "colab": {
     "base_uri": "https://localhost:8080/",
     "height": 206
    },
    "id": "q4F25qa_9DOs",
    "outputId": "34776dc8-c06f-4b95-abda-f166468c2ff8"
   },
   "outputs": [
    {
     "data": {
      "text/html": [
       "\n",
       "  <div id=\"df-2a02f4ba-0861-437d-8243-6c3dce22e6e3\">\n",
       "    <div class=\"colab-df-container\">\n",
       "      <div>\n",
       "<style scoped>\n",
       "    .dataframe tbody tr th:only-of-type {\n",
       "        vertical-align: middle;\n",
       "    }\n",
       "\n",
       "    .dataframe tbody tr th {\n",
       "        vertical-align: top;\n",
       "    }\n",
       "\n",
       "    .dataframe thead th {\n",
       "        text-align: right;\n",
       "    }\n",
       "</style>\n",
       "<table border=\"1\" class=\"dataframe\">\n",
       "  <thead>\n",
       "    <tr style=\"text-align: right;\">\n",
       "      <th></th>\n",
       "      <th>Close</th>\n",
       "    </tr>\n",
       "  </thead>\n",
       "  <tbody>\n",
       "    <tr>\n",
       "      <th>0</th>\n",
       "      <td>41.055000</td>\n",
       "    </tr>\n",
       "    <tr>\n",
       "      <th>1</th>\n",
       "      <td>40.580002</td>\n",
       "    </tr>\n",
       "    <tr>\n",
       "      <th>2</th>\n",
       "      <td>41.314999</td>\n",
       "    </tr>\n",
       "    <tr>\n",
       "      <th>3</th>\n",
       "      <td>42.275002</td>\n",
       "    </tr>\n",
       "    <tr>\n",
       "      <th>4</th>\n",
       "      <td>44.142502</td>\n",
       "    </tr>\n",
       "  </tbody>\n",
       "</table>\n",
       "</div>\n",
       "      <button class=\"colab-df-convert\" onclick=\"convertToInteractive('df-2a02f4ba-0861-437d-8243-6c3dce22e6e3')\"\n",
       "              title=\"Convert this dataframe to an interactive table.\"\n",
       "              style=\"display:none;\">\n",
       "        \n",
       "  <svg xmlns=\"http://www.w3.org/2000/svg\" height=\"24px\"viewBox=\"0 0 24 24\"\n",
       "       width=\"24px\">\n",
       "    <path d=\"M0 0h24v24H0V0z\" fill=\"none\"/>\n",
       "    <path d=\"M18.56 5.44l.94 2.06.94-2.06 2.06-.94-2.06-.94-.94-2.06-.94 2.06-2.06.94zm-11 1L8.5 8.5l.94-2.06 2.06-.94-2.06-.94L8.5 2.5l-.94 2.06-2.06.94zm10 10l.94 2.06.94-2.06 2.06-.94-2.06-.94-.94-2.06-.94 2.06-2.06.94z\"/><path d=\"M17.41 7.96l-1.37-1.37c-.4-.4-.92-.59-1.43-.59-.52 0-1.04.2-1.43.59L10.3 9.45l-7.72 7.72c-.78.78-.78 2.05 0 2.83L4 21.41c.39.39.9.59 1.41.59.51 0 1.02-.2 1.41-.59l7.78-7.78 2.81-2.81c.8-.78.8-2.07 0-2.86zM5.41 20L4 18.59l7.72-7.72 1.47 1.35L5.41 20z\"/>\n",
       "  </svg>\n",
       "      </button>\n",
       "      \n",
       "  <style>\n",
       "    .colab-df-container {\n",
       "      display:flex;\n",
       "      flex-wrap:wrap;\n",
       "      gap: 12px;\n",
       "    }\n",
       "\n",
       "    .colab-df-convert {\n",
       "      background-color: #E8F0FE;\n",
       "      border: none;\n",
       "      border-radius: 50%;\n",
       "      cursor: pointer;\n",
       "      display: none;\n",
       "      fill: #1967D2;\n",
       "      height: 32px;\n",
       "      padding: 0 0 0 0;\n",
       "      width: 32px;\n",
       "    }\n",
       "\n",
       "    .colab-df-convert:hover {\n",
       "      background-color: #E2EBFA;\n",
       "      box-shadow: 0px 1px 2px rgba(60, 64, 67, 0.3), 0px 1px 3px 1px rgba(60, 64, 67, 0.15);\n",
       "      fill: #174EA6;\n",
       "    }\n",
       "\n",
       "    [theme=dark] .colab-df-convert {\n",
       "      background-color: #3B4455;\n",
       "      fill: #D2E3FC;\n",
       "    }\n",
       "\n",
       "    [theme=dark] .colab-df-convert:hover {\n",
       "      background-color: #434B5C;\n",
       "      box-shadow: 0px 1px 3px 1px rgba(0, 0, 0, 0.15);\n",
       "      filter: drop-shadow(0px 1px 2px rgba(0, 0, 0, 0.3));\n",
       "      fill: #FFFFFF;\n",
       "    }\n",
       "  </style>\n",
       "\n",
       "      <script>\n",
       "        const buttonEl =\n",
       "          document.querySelector('#df-2a02f4ba-0861-437d-8243-6c3dce22e6e3 button.colab-df-convert');\n",
       "        buttonEl.style.display =\n",
       "          google.colab.kernel.accessAllowed ? 'block' : 'none';\n",
       "\n",
       "        async function convertToInteractive(key) {\n",
       "          const element = document.querySelector('#df-2a02f4ba-0861-437d-8243-6c3dce22e6e3');\n",
       "          const dataTable =\n",
       "            await google.colab.kernel.invokeFunction('convertToInteractive',\n",
       "                                                     [key], {});\n",
       "          if (!dataTable) return;\n",
       "\n",
       "          const docLinkHtml = 'Like what you see? Visit the ' +\n",
       "            '<a target=\"_blank\" href=https://colab.research.google.com/notebooks/data_table.ipynb>data table notebook</a>'\n",
       "            + ' to learn more about interactive tables.';\n",
       "          element.innerHTML = '';\n",
       "          dataTable['output_type'] = 'display_data';\n",
       "          await google.colab.output.renderOutput(dataTable, element);\n",
       "          const docLink = document.createElement('div');\n",
       "          docLink.innerHTML = docLinkHtml;\n",
       "          element.appendChild(docLink);\n",
       "        }\n",
       "      </script>\n",
       "    </div>\n",
       "  </div>\n",
       "  "
      ],
      "text/plain": [
       "       Close\n",
       "0  41.055000\n",
       "1  40.580002\n",
       "2  41.314999\n",
       "3  42.275002\n",
       "4  44.142502"
      ]
     },
     "execution_count": 97,
     "metadata": {},
     "output_type": "execute_result"
    }
   ],
   "source": [
    "final_df.head()"
   ]
  },
  {
   "cell_type": "code",
   "execution_count": null,
   "metadata": {
    "id": "Bk1uUyNa9KY8"
   },
   "outputs": [],
   "source": [
    "input_data = scaler.fit_transform(final_df)"
   ]
  },
  {
   "cell_type": "code",
   "execution_count": null,
   "metadata": {
    "colab": {
     "base_uri": "https://localhost:8080/"
    },
    "id": "ZpXn2FCV9gjc",
    "outputId": "06ed5050-4e37-4d2d-b23b-46bf5f3e8945"
   },
   "outputs": [
    {
     "data": {
      "text/plain": [
       "(1040, 1)"
      ]
     },
     "execution_count": 101,
     "metadata": {},
     "output_type": "execute_result"
    }
   ],
   "source": [
    "input_data.shape"
   ]
  },
  {
   "cell_type": "code",
   "execution_count": null,
   "metadata": {
    "id": "AhdaaxoD9ihs"
   },
   "outputs": [],
   "source": [
    "X_test = []\n",
    "y_test = []\n",
    "\n",
    "for i in range(100, input_data.shape[0]):\n",
    "  X_test.append(input_data[i-100:i])\n",
    "  y_test.append(input_data[i,0])\n"
   ]
  },
  {
   "cell_type": "code",
   "execution_count": null,
   "metadata": {
    "id": "_5e820_8-qoM"
   },
   "outputs": [],
   "source": [
    "X_test , y_test = np.array(X_test), np.array(y_test)"
   ]
  },
  {
   "cell_type": "code",
   "execution_count": null,
   "metadata": {
    "colab": {
     "base_uri": "https://localhost:8080/"
    },
    "id": "xzgQQJn8-xGc",
    "outputId": "ef494898-cccc-4f86-9524-7d82f71f9949"
   },
   "outputs": [
    {
     "data": {
      "text/plain": [
       "(940, 100, 1)"
      ]
     },
     "execution_count": 104,
     "metadata": {},
     "output_type": "execute_result"
    }
   ],
   "source": [
    "X_test.shape"
   ]
  },
  {
   "cell_type": "code",
   "execution_count": null,
   "metadata": {
    "id": "BaFsT5wy-zBr"
   },
   "outputs": [],
   "source": [
    "y_predict = model.predict(X_test)"
   ]
  },
  {
   "cell_type": "code",
   "execution_count": null,
   "metadata": {
    "colab": {
     "base_uri": "https://localhost:8080/"
    },
    "id": "7Y16aZ40_BK1",
    "outputId": "bc2750e1-1067-409b-a835-1f33206ba8fe"
   },
   "outputs": [
    {
     "data": {
      "text/plain": [
       "array([0.1298114 , 0.13003328, 0.13286677, 0.12882138, 0.13416403,\n",
       "       0.13655373, 0.13353247, 0.14126483, 0.14261331, 0.14520781,\n",
       "       0.1486558 , 0.15341813, 0.14645388, 0.14013825, 0.13925067,\n",
       "       0.14454211, 0.12660237, 0.12334215, 0.13641717, 0.1283093 ,\n",
       "       0.13648544, 0.13484681, 0.12602203, 0.13163779, 0.13392506,\n",
       "       0.13747546, 0.12443458, 0.13247419, 0.12649996, 0.11956987,\n",
       "       0.1213792 , 0.13086968, 0.13660494, 0.1114449 , 0.10139113,\n",
       "       0.10511224, 0.115661  , 0.11316891, 0.10630708, 0.08872578,\n",
       "       0.08541435, 0.07614578, 0.08401469, 0.08763335, 0.07454126,\n",
       "       0.05938379, 0.05904241, 0.05137833, 0.05535546, 0.05470684,\n",
       "       0.06614321, 0.06377059, 0.06211488, 0.07276608, 0.0588888 ,\n",
       "       0.05552616, 0.04489204, 0.04678673, 0.04513101, 0.04593327,\n",
       "       0.04909106, 0.03975419, 0.03712555, 0.0407613 , 0.03191943,\n",
       "       0.02498933, 0.0145771 , 0.00792012, 0.02556968, 0.02382861,\n",
       "       0.02396517, 0.02654264, 0.02684987, 0.        , 0.010361  ,\n",
       "       0.00979771, 0.01461125, 0.01898096, 0.01981736, 0.01723989,\n",
       "       0.01333105, 0.01857132, 0.02176325, 0.02333362, 0.02497227,\n",
       "       0.0189639 , 0.02002218, 0.01793974, 0.02657676, 0.02408467,\n",
       "       0.02131943, 0.03936161, 0.04139285, 0.04152941, 0.04960314,\n",
       "       0.05460441, 0.05470684, 0.049074  , 0.04816933, 0.04649653,\n",
       "       0.04898865, 0.04777672, 0.04883503, 0.04818639, 0.04905691,\n",
       "       0.05093454, 0.04927882, 0.05253905, 0.05468976, 0.05486046,\n",
       "       0.05578219, 0.05284628, 0.05595289, 0.05745499, 0.05690876,\n",
       "       0.05518478, 0.05173679, 0.05243663, 0.06266108, 0.06609201,\n",
       "       0.06745755, 0.07090551, 0.07498506, 0.07822822, 0.0756849 ,\n",
       "       0.07846719, 0.09029614, 0.08340019, 0.07945721, 0.07612869,\n",
       "       0.07899633, 0.07942306, 0.08152257, 0.08372451, 0.08846975,\n",
       "       0.09073996, 0.09132031, 0.09355637, 0.09884784, 0.09782367,\n",
       "       0.09973542, 0.09688486, 0.09674831, 0.0973628 , 0.09739694,\n",
       "       0.10401981, 0.10526585, 0.10640949, 0.1114449 , 0.1108987 ,\n",
       "       0.10768968, 0.1060169 , 0.10654605, 0.09982077, 0.11663396,\n",
       "       0.11429546, 0.11873346, 0.11315182, 0.10355893, 0.1036272 ,\n",
       "       0.09990612, 0.0938636 , 0.0743023 , 0.07932065, 0.08317828,\n",
       "       0.08174448, 0.079901  , 0.06981308, 0.0758044 , 0.06928394,\n",
       "       0.06395836, 0.06278058, 0.06151744, 0.06006658, 0.06163694,\n",
       "       0.05612359, 0.05310233, 0.06392421, 0.06887427, 0.07344884,\n",
       "       0.08186395, 0.08601178, 0.08981821, 0.08875993, 0.08869163,\n",
       "       0.08628489, 0.08824784, 0.0960314 , 0.09504138, 0.09775541,\n",
       "       0.09659469, 0.09625331, 0.09111549, 0.09833576, 0.09823335,\n",
       "       0.09512674, 0.10132287, 0.10333702, 0.10620467, 0.10589741,\n",
       "       0.09871128, 0.10079373, 0.10419049, 0.10166425, 0.10430998,\n",
       "       0.10757021, 0.10635828, 0.10439533, 0.10833832, 0.10309806,\n",
       "       0.11100111, 0.11376632, 0.11347614, 0.11065973, 0.11188872,\n",
       "       0.11520012, 0.11366391, 0.12093538, 0.11306647, 0.10553897,\n",
       "       0.08730903, 0.09355637, 0.09703848, 0.10453186, 0.100367  ,\n",
       "       0.09949645, 0.11398822, 0.10337117, 0.10164719, 0.10977213,\n",
       "       0.11634379, 0.11636084, 0.12025262, 0.11994539, 0.10318341,\n",
       "       0.10975507, 0.10577794, 0.10811641, 0.11405649, 0.11359564,\n",
       "       0.10840658, 0.11436375, 0.12134505, 0.12131091, 0.12286421,\n",
       "       0.12718272, 0.13894341, 0.13808995, 0.13068192, 0.13264487,\n",
       "       0.13401041, 0.13754375, 0.13445422, 0.12894085, 0.13063071,\n",
       "       0.1288555 , 0.1345737 , 0.13262781, 0.13080141, 0.13959205,\n",
       "       0.14065033, 0.13104038, 0.13421526, 0.14478108, 0.14486643,\n",
       "       0.14032601, 0.14481523, 0.1500384 , 0.16048478, 0.15990441,\n",
       "       0.15896562, 0.15734402, 0.15889733, 0.16082616, 0.16782452,\n",
       "       0.16688574, 0.172382  , 0.17306478, 0.17818555, 0.18240165,\n",
       "       0.17256976, 0.17251856, 0.18190663, 0.19395751, 0.19682513,\n",
       "       0.19619358, 0.19638131, 0.20011948, 0.20133143, 0.20484768,\n",
       "       0.20443799, 0.20872238, 0.20559873, 0.21092432, 0.21321159,\n",
       "       0.21182899, 0.20653752, 0.20452336, 0.20413075, 0.21196552,\n",
       "       0.20841514, 0.21447469, 0.21346762, 0.20819323, 0.20015365,\n",
       "       0.20406246, 0.21061703, 0.21937355, 0.21290435, 0.21556715,\n",
       "       0.21947596, 0.22065374, 0.22695229, 0.23499187, 0.23593071,\n",
       "       0.23478705, 0.23526499, 0.23427499, 0.24205855, 0.2425194 ,\n",
       "       0.25214647, 0.25195868, 0.25489459, 0.25853034, 0.26996673,\n",
       "       0.2649825 , 0.26902789, 0.26662118, 0.27481438, 0.28580696,\n",
       "       0.28700178, 0.29831868, 0.29101305, 0.28872578, 0.29538277,\n",
       "       0.30133996, 0.297653  , 0.29958183, 0.30219342, 0.30062303,\n",
       "       0.28464627, 0.29956475, 0.31091577, 0.31011351, 0.28560214,\n",
       "       0.28415125, 0.30154478, 0.30598279, 0.31240078, 0.30355894,\n",
       "       0.30615344, 0.30284201, 0.31579759, 0.31182043, 0.31195702,\n",
       "       0.30180081, 0.30968678, 0.30401979, 0.29164461, 0.26626269,\n",
       "       0.24902277, 0.25682342, 0.22417   , 0.22389688, 0.26733806,\n",
       "       0.25113939, 0.27404625, 0.25728432, 0.25064437, 0.21162416,\n",
       "       0.24434582, 0.22743022, 0.18100196, 0.23176582, 0.17072631,\n",
       "       0.18890501, 0.17833917, 0.17511308, 0.14858753, 0.14027481,\n",
       "       0.17869763, 0.17637622, 0.19842964, 0.18016558, 0.19223351,\n",
       "       0.1913459 , 0.16850731, 0.17536911, 0.16936077, 0.20530853,\n",
       "       0.20011948, 0.21145346, 0.21473072, 0.22370915, 0.24726464,\n",
       "       0.24279252, 0.24665018, 0.24001023, 0.2299906 , 0.21537936,\n",
       "       0.22857388, 0.22674746, 0.24030043, 0.24064183, 0.23280702,\n",
       "       0.24842539, 0.25878636, 0.25071266, 0.25769396, 0.26520441,\n",
       "       0.27044467, 0.27575317, 0.28666042, 0.29499021, 0.28884528,\n",
       "       0.28242724, 0.28565335, 0.28252965, 0.29490483, 0.29179827,\n",
       "       0.30219342, 0.29813094, 0.30161307, 0.29792612, 0.30028163,\n",
       "       0.30052062, 0.29999148, 0.30666555, 0.30920884, 0.31224716,\n",
       "       0.3074678 , 0.32313733, 0.32648288, 0.34445677, 0.35956303,\n",
       "       0.33064778, 0.33559784, 0.34274984, 0.35826576, 0.35742938,\n",
       "       0.35766837, 0.35423745, 0.36985577, 0.38293079, 0.37188701,\n",
       "       0.38004609, 0.36091152, 0.37482292, 0.3799778 , 0.37880002,\n",
       "       0.37880002, 0.39542547, 0.39344544, 0.4082615 , 0.41106088,\n",
       "       0.41220449, 0.40918326, 0.41997101, 0.42452847, 0.41631818,\n",
       "       0.41498678, 0.42884698, 0.4195784 , 0.42143894, 0.39120937,\n",
       "       0.38963898, 0.40462575, 0.39399167, 0.40619614, 0.41404799,\n",
       "       0.4828028 , 0.50108391, 0.50605106, 0.50876506, 0.53498335,\n",
       "       0.51593415, 0.52696085, 0.50407102, 0.52888968, 0.54254505,\n",
       "       0.54184521, 0.53979688, 0.54631734, 0.54730733, 0.56483745,\n",
       "       0.6064522 , 0.61660836, 0.60955876, 0.62114877, 0.61082192,\n",
       "       0.60943932, 0.63833743, 0.67343174, 0.65445078, 0.58262354,\n",
       "       0.58316977, 0.5275924 , 0.55831699, 0.53216694, 0.5219937 ,\n",
       "       0.54493473, 0.54616372, 0.52288128, 0.51065972, 0.48676281,\n",
       "       0.50888456, 0.52069642, 0.48867461, 0.49618506, 0.52390545,\n",
       "       0.54220365, 0.53626354, 0.54800717, 0.55469833, 0.52895792,\n",
       "       0.55271829, 0.52991384, 0.54302299, 0.54227194, 0.55592731,\n",
       "       0.60665703, 0.58412564, 0.58474016, 0.58146285, 0.56992404,\n",
       "       0.54916792, 0.55961427, 0.55524455, 0.54759753, 0.54274988,\n",
       "       0.54281817, 0.55340105, 0.51653153, 0.54466162, 0.50055477,\n",
       "       0.49994025, 0.51134253, 0.54213536, 0.56999233, 0.56767094,\n",
       "       0.55148931, 0.54909963, 0.57313306, 0.57122132, 0.57156272,\n",
       "       0.57866352, 0.5724503 , 0.56316464, 0.56732954, 0.55845352,\n",
       "       0.53462491, 0.54363746, 0.54950927, 0.55333276, 0.57012891,\n",
       "       0.59518651, 0.59764448, 0.59668861, 0.59197749, 0.60221902,\n",
       "       0.60652044, 0.58876847, 0.59873688, 0.59306994, 0.58876847,\n",
       "       0.63041735, 0.62993941, 0.63601605, 0.62208761, 0.63280703,\n",
       "       0.65772814, 0.65144668, 0.65834261, 0.6905693 , 0.67814286,\n",
       "       0.67029106, 0.66325855, 0.64086375, 0.65178799, 0.62167792,\n",
       "       0.65117352, 0.65888884, 0.63792779, 0.63669886, 0.6509687 ,\n",
       "       0.63744991, 0.62536487, 0.63007599, 0.65875226, 0.69179823,\n",
       "       0.70681923, 0.73310576, 0.73474444, 0.72723394, 0.69330033,\n",
       "       0.65827437, 0.67315868, 0.67896225, 0.67179316, 0.69534866,\n",
       "       0.69104718, 0.6920714 , 0.68592642, 0.68169329, 0.67991813,\n",
       "       0.6815567 , 0.6666724 , 0.65062729, 0.64291208, 0.64400443,\n",
       "       0.61758131, 0.61662544, 0.61314331, 0.58337459, 0.58521809,\n",
       "       0.62980288, 0.61157297, 0.59068021, 0.57750277, 0.5863105 ,\n",
       "       0.55176242, 0.58405735, 0.57647866, 0.58999745, 0.5836477 ,\n",
       "       0.60385765, 0.61464541, 0.609115  , 0.58023386, 0.5765469 ,\n",
       "       0.59976105, 0.59395752, 0.57722966, 0.5806435 , 0.58487669,\n",
       "       0.58610567, 0.57593244, 0.59129473, 0.59709825, 0.61689856,\n",
       "       0.61901512, 0.63055393, 0.64735003, 0.66537512, 0.65335843,\n",
       "       0.67513866, 0.65875226, 0.67561665, 0.67329526, 0.67793804,\n",
       "       0.66612617, 0.66878896, 0.65813779, 0.67438772, 0.67711875,\n",
       "       0.6748656 , 0.66933519, 0.66865238, 0.65486053, 0.66223434,\n",
       "       0.63021252, 0.6319195 , 0.6431169 , 0.64632592, 0.62338484,\n",
       "       0.61696685, 0.59552786, 0.6105488 , 0.62748144, 0.61942477,\n",
       "       0.60972946, 0.60863706, 0.62652557, 0.61368953, 0.62509176,\n",
       "       0.62372624, 0.62338484, 0.61266537, 0.60809083, 0.60583768,\n",
       "       0.61116327, 0.60078521, 0.61683026, 0.61689856, 0.62263379,\n",
       "       0.62529658, 0.61833236, 0.62679868, 0.64816932, 0.64243409,\n",
       "       0.64591617, 0.65711357, 0.64803284, 0.66059576, 0.67206622,\n",
       "       0.67015448, 0.6681745 , 0.66612617, 0.67752839, 0.68811133,\n",
       "       0.6924128 , 0.69452937, 0.71289586, 0.72696088, 0.7443715 ,\n",
       "       0.73529067, 0.74805841, 0.74389351, 0.75167707, 0.77564222,\n",
       "       0.77106768, 0.75679784, 0.72989674, 0.75515916, 0.75003839,\n",
       "       0.75959721, 0.77161391, 0.77454987, 0.75939239, 0.74717078,\n",
       "       0.75167707, 0.75317917, 0.75085778, 0.7634207 , 0.76062133,\n",
       "       0.76137238, 0.75509092, 0.75474951, 0.75140401, 0.75317917,\n",
       "       0.77386705, 0.77530091, 0.78909277, 0.78274307, 0.75659302,\n",
       "       0.7589144 , 0.76908769, 0.77946581, 0.77885124, 0.77024839,\n",
       "       0.76464964, 0.77188707, 0.80274814, 0.79394047, 0.79858325,\n",
       "       0.80636681, 0.81080486, 0.82712303, 0.81633527, 0.80923453,\n",
       "       0.77441328, 0.77837335, 0.76860971, 0.77482293, 0.77318424,\n",
       "       0.75454469, 0.73324234, 0.73658784, 0.75311093, 0.75980204,\n",
       "       0.7604165 , 0.74983357, 0.72620983, 0.73249129, 0.72341046,\n",
       "       0.73126225, 0.70729711, 0.72074766, 0.7268243 , 0.73563197,\n",
       "       0.73296917, 0.73235471, 0.72347869, 0.71938215, 0.73884099,\n",
       "       0.7462149 , 0.75789029, 0.77297942, 0.77639327, 0.77789536,\n",
       "       0.77250154, 0.77216013, 0.77680301, 0.77359399, 0.798993  ,\n",
       "       0.78008027, 0.77434504, 0.78158237, 0.79161908, 0.78800042,\n",
       "       0.79018522, 0.78444999, 0.7869762 , 0.76724419, 0.76690279,\n",
       "       0.78137755, 0.78144579, 0.78827348, 0.80527445, 0.83517965,\n",
       "       0.8534779 , 0.85668693, 0.85934972, 0.86296839, 0.82794232,\n",
       "       0.85136134, 0.88590942, 0.88229075, 0.87539472, 0.86228557,\n",
       "       0.886046  , 0.92605614, 0.95268418, 0.94913376, 0.98252114,\n",
       "       0.95719048, 0.94756342, 0.98149703, 0.93343006, 0.92578308,\n",
       "       0.9162926 , 0.93841434, 0.95650767, 0.96087739, 0.98852954,\n",
       "       0.98142868, 0.98204326, 0.97398653, 0.96968516, 1.        ,\n",
       "       0.98422806, 0.95159173, 0.9316549 , 0.93281559, 0.93295217,\n",
       "       0.95268418, 0.95575662, 0.93295217, 0.93896057, 0.91663401,\n",
       "       0.89225911, 0.88051549, 0.86617741, 0.86078348, 0.84822056,\n",
       "       0.84760609, 0.84439707, 0.92025267, 0.95063586, 0.94947516,\n",
       "       0.95787319, 0.93779977, 0.93431769, 0.92933351, 0.95097726,\n",
       "       0.96087739, 0.93247418, 0.90871386, 0.91035255, 0.93704872,\n",
       "       0.93541014, 0.91035255, 0.89956479, 0.87921831, 0.85020064,\n",
       "       0.86843056, 0.88283698, 0.88468038, 0.87157123, 0.89451226,\n",
       "       0.89225911, 0.87136641, 0.8449433 , 0.8322438 , 0.86986431,\n",
       "       0.83961771, 0.81374072, 0.78567892, 0.81619869, 0.84692328,\n",
       "       0.85395579, 0.87689682, 0.88645564, 0.9099429 , 0.91943338,\n",
       "       0.94578826, 0.95022621, 0.95623461, 0.97917564, 0.97105068,\n",
       "       0.94947516, 0.94742683, 0.97562521, 0.9525476 , 0.9304942 ,\n",
       "       0.93261077, 0.91861399, 0.88898185, 0.90202276, 0.92073055,\n",
       "       0.88584107, 0.88433908, 0.9002475 , 0.8990868 , 0.89355639,\n",
       "       0.86194417, 0.86938643, 0.82787408, 0.82630374, 0.87457543,\n",
       "       0.83367755, 0.83579422, 0.84617223, 0.89082536, 0.82766926,\n",
       "       0.83115134, 0.79551081, 0.81223862, 0.75754889, 0.73064779,\n",
       "       0.76171378, 0.75099426, 0.77625679, 0.71876768, 0.6950756 ,\n",
       "       0.69671418, 0.73440303, 0.7156269 , 0.71671935, 0.73897757,\n",
       "       0.77898782, 0.77352565, 0.77263812, 0.78970734, 0.74990191,\n",
       "       0.75509092, 0.77263812, 0.76751736, 0.73119401, 0.6935735 ])"
      ]
     },
     "execution_count": 107,
     "metadata": {},
     "output_type": "execute_result"
    }
   ],
   "source": [
    "y_test"
   ]
  },
  {
   "cell_type": "code",
   "execution_count": null,
   "metadata": {
    "colab": {
     "base_uri": "https://localhost:8080/"
    },
    "id": "OprpvsfS_GT1",
    "outputId": "8a36f2b9-63d4-4111-d891-7f7cf5918fcb"
   },
   "outputs": [
    {
     "data": {
      "text/plain": [
       "array([0.00682769])"
      ]
     },
     "execution_count": 108,
     "metadata": {},
     "output_type": "execute_result"
    }
   ],
   "source": [
    "scaler.scale_"
   ]
  },
  {
   "cell_type": "code",
   "execution_count": null,
   "metadata": {
    "id": "o822ozMD_Opt"
   },
   "outputs": [],
   "source": [
    "scale = 1/0.00682769\n",
    "y_predict = y_predict*scale\n",
    "y_test = y_test*scale"
   ]
  },
  {
   "cell_type": "code",
   "execution_count": null,
   "metadata": {
    "colab": {
     "base_uri": "https://localhost:8080/",
     "height": 501
    },
    "id": "-p0RgR-D_c_0",
    "outputId": "5a9c2fbf-35eb-4a08-aaa9-d3d992683d13"
   },
   "outputs": [
    {
     "data": {
      "text/plain": [
       "<matplotlib.legend.Legend at 0x7f4320fede90>"
      ]
     },
     "execution_count": 112,
     "metadata": {},
     "output_type": "execute_result"
    },
    {
     "data": {
      "image/png": "[encoded data removed]",
      "text/plain": [
       "<Figure size 864x576 with 1 Axes>"
      ]
     },
     "metadata": {
      "needs_background": "light"
     },
     "output_type": "display_data"
    }
   ],
   "source": [
    "plt.figure(figsize=(12,8))\n",
    "plt.plot(y_predict,'r',label='predict')\n",
    "plt.plot(y_test,'b',label='org')\n",
    "plt.legend()"
   ]
  },
  {
   "cell_type": "code",
   "execution_count": null,
   "metadata": {
    "id": "14YGbbREBZfS"
   },
   "outputs": [],
   "source": [
    "import tensorflow as tf\n",
    "from tensorflow import keras"
   ]
  },
  {
   "cell_type": "code",
   "execution_count": null,
   "metadata": {
    "id": "HRoFpg4vBNNu"
   },
   "outputs": [],
   "source": []
  }
 ],
 "metadata": {
  "colab": {
   "name": "lstm_model.py",
   "provenance": []
  },
  "kernelspec": {
   "display_name": "Python 3 (ipykernel)",
   "language": "python",
   "name": "python3"
  },
  "language_info": {
   "codemirror_mode": {
    "name": "ipython",
    "version": 3
   },
   "file_extension": ".py",
   "mimetype": "text/x-python",
   "name": "python",
   "nbconvert_exporter": "python",
   "pygments_lexer": "ipython3",
   "version": "3.8.13"
  }
 },
 "nbformat": 4,
 "nbformat_minor": 1
}
